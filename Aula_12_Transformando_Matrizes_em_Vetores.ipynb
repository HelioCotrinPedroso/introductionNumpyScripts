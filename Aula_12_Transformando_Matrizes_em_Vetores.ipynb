{
 "cells": [
  {
   "cell_type": "markdown",
   "id": "c97b89e4",
   "metadata": {},
   "source": [
    "### Manipulacao de Dados com Numpy"
   ]
  },
  {
   "cell_type": "markdown",
   "id": "2adbc37a",
   "metadata": {},
   "source": [
    "#### Aula 12 – Transformando Matrizes em Vetores"
   ]
  },
  {
   "cell_type": "code",
   "execution_count": 3,
   "id": "46286df5",
   "metadata": {},
   "outputs": [],
   "source": [
    "# Vamos começar do inicio que basicamente e voce importar o pacote numpy\n",
    "# O Anaconda Python ja possui o NumPy instalado por isso nao precisa instalar\n",
    "# Caso voce não consiga importa-lo tente usar o comando !pip install numpy e depois faça a importacao\n",
    "import numpy as np\n",
    "\n",
    "# Veja que importamos o numpy e demos o \"apelido\" de np que sempre sera utilizado quando formos chamar as funcoes do numpy"
   ]
  },
  {
   "cell_type": "code",
   "execution_count": 4,
   "id": "ea3de47e",
   "metadata": {},
   "outputs": [
    {
     "name": "stdout",
     "output_type": "stream",
     "text": [
      "1.22.3\n"
     ]
    }
   ],
   "source": [
    "# Vamos verificar a versao utilizada neste curso do numpy, e importante que voce utilize a mesma versao\n",
    "print(np.__version__)"
   ]
  },
  {
   "cell_type": "markdown",
   "id": "5fbaa014",
   "metadata": {},
   "source": [
    "### Aula 12 – Transformando Matrizes em Vetores"
   ]
  },
  {
   "cell_type": "markdown",
   "id": "9f358bfa",
   "metadata": {},
   "source": [
    "##### Uma tarefa muito comum em machine learning e transformarmos matrizes em vetores, isso muda o formato dos dados"
   ]
  },
  {
   "cell_type": "code",
   "execution_count": 5,
   "id": "46774326",
   "metadata": {},
   "outputs": [
    {
     "data": {
      "text/plain": [
       "array([[0, 1, 2, 3, 4],\n",
       "       [5, 6, 7, 8, 9]])"
      ]
     },
     "execution_count": 5,
     "metadata": {},
     "output_type": "execute_result"
    }
   ],
   "source": [
    "# Vamos criar um array comum mas dessa vez\n",
    "# Vamos usar o arange para cada dimensao do array\n",
    "# Ou seja um array de arrays = uma matriz de 2 arrays de 5 registros\n",
    "\n",
    "array3 = np.array([np.arange(0,5),np.arange(5,10)])\n",
    "array3\n",
    "\n",
    "# Perceba que nao precisamos usar uma lista de listas\n",
    "# Pois a funcao arange ja cria um array(\"uma lista\")"
   ]
  },
  {
   "cell_type": "code",
   "execution_count": 12,
   "id": "979a1f60",
   "metadata": {},
   "outputs": [
    {
     "data": {
      "text/plain": [
       "(2, 5)"
      ]
     },
     "execution_count": 12,
     "metadata": {},
     "output_type": "execute_result"
    }
   ],
   "source": [
    "# Neste caso sao 2 dimensoes(2 arrays) com 5 registros\n",
    "# Perceba que apesar de ser 2 linhas e 5 colunas\n",
    "# Mas quando vermos as dimensoes sera apenas 2 dimensoes pois e isso que e mesmo\n",
    "# Isso pode confundir mas e pq segue o mesmo raciocinio do slicing\n",
    "# Dependendo da maneira que nos criamos a matriz as saidas podem variar tambem\n",
    "# Isso e muito comum em programacao, pois sao muitas possibilidades de apliacao das funcoes, nao se assuste\n",
    "\n",
    "array3.shape"
   ]
  },
  {
   "cell_type": "markdown",
   "id": "d2ebfca2",
   "metadata": {},
   "source": [
    "##### Em alguns modelos de machine learning nao da para trabalhar com a matriz em si, isso dificulta o processamento na hora de realizar o treinamento do modelo, por isso em varios momentos precisamos transformar a matriz em um vetor. Ou seja, aplicamos todas as transformacoes necessarias e antes de treinar o modelo convertemos a matriz em um vetor."
   ]
  },
  {
   "cell_type": "code",
   "execution_count": 7,
   "id": "b6e66769",
   "metadata": {},
   "outputs": [
    {
     "data": {
      "text/plain": [
       "array([0, 1, 2, 3, 4, 5, 6, 7, 8, 9])"
      ]
     },
     "execution_count": 7,
     "metadata": {},
     "output_type": "execute_result"
    }
   ],
   "source": [
    "# Para isso usamos a funcao ravel\n",
    "# Veja ele pegou as 2 dimensoes e colocou em apenas uma\n",
    "# Visao computacional que e uma forma de IA usa este conceito\n",
    "# De transformar uma matriz em vetor\n",
    "# Pois a imagem e uma matriz e para treinar o modelo precisamos passa-la para vetor\n",
    "\n",
    "array3.ravel()"
   ]
  },
  {
   "cell_type": "code",
   "execution_count": 8,
   "id": "754301ac",
   "metadata": {},
   "outputs": [
    {
     "data": {
      "text/plain": [
       "array([0, 5, 1, 6, 2, 7, 3, 8, 4, 9])"
      ]
     },
     "execution_count": 8,
     "metadata": {},
     "output_type": "execute_result"
    }
   ],
   "source": [
    "# Aplicando a transposta antes do ravel veja que o resultado muda completamente\n",
    "\n",
    "array3.T.ravel()"
   ]
  },
  {
   "cell_type": "code",
   "execution_count": 13,
   "id": "cfe01fd3",
   "metadata": {},
   "outputs": [
    {
     "data": {
      "text/plain": [
       "array([[0, 5],\n",
       "       [1, 6],\n",
       "       [2, 7],\n",
       "       [3, 8],\n",
       "       [4, 9]])"
      ]
     },
     "execution_count": 13,
     "metadata": {},
     "output_type": "execute_result"
    }
   ],
   "source": [
    "# Pois ele foi colocando em blocos, como se uma linha fosse ficando na frente da outra\n",
    "# 0-5,1-6,2-7, etc, pois de 2 dimensoes ele virou objeto de 5 dimensoes\n",
    "array3.T"
   ]
  }
 ],
 "metadata": {
  "kernelspec": {
   "display_name": "Python 3 (ipykernel)",
   "language": "python",
   "name": "python3"
  },
  "language_info": {
   "codemirror_mode": {
    "name": "ipython",
    "version": 3
   },
   "file_extension": ".py",
   "mimetype": "text/x-python",
   "name": "python",
   "nbconvert_exporter": "python",
   "pygments_lexer": "ipython3",
   "version": "3.9.12"
  }
 },
 "nbformat": 4,
 "nbformat_minor": 5
}
