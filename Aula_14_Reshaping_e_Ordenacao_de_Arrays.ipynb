{
 "cells": [
  {
   "cell_type": "markdown",
   "id": "c97b89e4",
   "metadata": {},
   "source": [
    "### Manipulacao de Dados com Numpy"
   ]
  },
  {
   "cell_type": "markdown",
   "id": "2adbc37a",
   "metadata": {},
   "source": [
    "#### Aula 14 – Reshaping e Ordenacao de Arrays"
   ]
  },
  {
   "cell_type": "code",
   "execution_count": 1,
   "id": "46286df5",
   "metadata": {},
   "outputs": [],
   "source": [
    "# Vamos começar do inicio que basicamente e voce importar o pacote numpy\n",
    "# O Anaconda Python ja possui o NumPy instalado por isso nao precisa instalar\n",
    "# Caso voce não consiga importa-lo tente usar o comando !pip install numpy e depois faça a importacao\n",
    "import numpy as np\n",
    "\n",
    "# Veja que importamos o numpy e demos o \"apelido\" de np que sempre sera utilizado quando formos chamar as funcoes do numpy"
   ]
  },
  {
   "cell_type": "code",
   "execution_count": 2,
   "id": "ea3de47e",
   "metadata": {},
   "outputs": [
    {
     "name": "stdout",
     "output_type": "stream",
     "text": [
      "1.22.3\n"
     ]
    }
   ],
   "source": [
    "# Vamos verificar a versao utilizada neste curso do numpy, e importante que voce utilize a mesma versao\n",
    "print(np.__version__)"
   ]
  },
  {
   "cell_type": "markdown",
   "id": "5fbaa014",
   "metadata": {},
   "source": [
    "### Aula 14 – Reshaping e Ordenacao de Arrays"
   ]
  },
  {
   "cell_type": "code",
   "execution_count": 3,
   "id": "46774326",
   "metadata": {},
   "outputs": [
    {
     "data": {
      "text/plain": [
       "array([ 1,  2,  3,  4,  5,  6,  7,  8,  9, 10])"
      ]
     },
     "execution_count": 3,
     "metadata": {},
     "output_type": "execute_result"
    }
   ],
   "source": [
    "# Vamos comecar criando um array simples com arange\n",
    "array1 = np.arange(1,11) ; array1"
   ]
  },
  {
   "cell_type": "code",
   "execution_count": 4,
   "id": "cab56421",
   "metadata": {},
   "outputs": [
    {
     "data": {
      "text/plain": [
       "(10,)"
      ]
     },
     "execution_count": 4,
     "metadata": {},
     "output_type": "execute_result"
    }
   ],
   "source": [
    "# Veja o shape\n",
    "array1.shape"
   ]
  },
  {
   "cell_type": "markdown",
   "id": "960264c8",
   "metadata": {},
   "source": [
    "### Reshaping"
   ]
  },
  {
   "cell_type": "code",
   "execution_count": 7,
   "id": "47bc1a77",
   "metadata": {},
   "outputs": [
    {
     "data": {
      "text/plain": [
       "array([[ 1,  2,  3,  4,  5],\n",
       "       [ 6,  7,  8,  9, 10]])"
      ]
     },
     "execution_count": 7,
     "metadata": {},
     "output_type": "execute_result"
    }
   ],
   "source": [
    "# Vamos mudar o shape deste array\n",
    "# Queremos agora fazer 2 linhas de 5 elementos\n",
    "# Perceba a mudanca\n",
    "array1.reshape(2,5)"
   ]
  },
  {
   "cell_type": "code",
   "execution_count": 8,
   "id": "62d828ae",
   "metadata": {},
   "outputs": [
    {
     "data": {
      "text/plain": [
       "(2, 5)"
      ]
     },
     "execution_count": 8,
     "metadata": {},
     "output_type": "execute_result"
    }
   ],
   "source": [
    "array1.reshape(2,5).shape"
   ]
  },
  {
   "cell_type": "markdown",
   "id": "782bc1fd",
   "metadata": {},
   "source": [
    "### Sort"
   ]
  },
  {
   "cell_type": "code",
   "execution_count": 9,
   "id": "1c77a946",
   "metadata": {},
   "outputs": [
    {
     "data": {
      "text/plain": [
       "array([[ 2,  1],\n",
       "       [15, -3]])"
      ]
     },
     "execution_count": 9,
     "metadata": {},
     "output_type": "execute_result"
    }
   ],
   "source": [
    "# Vamos criar um array desordenado\n",
    "array2 = np.array([[2,1],[15,-3]])\n",
    "array2"
   ]
  },
  {
   "cell_type": "code",
   "execution_count": 10,
   "id": "328b2fa2",
   "metadata": {},
   "outputs": [
    {
     "data": {
      "text/plain": [
       "array([[ 1,  2],\n",
       "       [-3, 15]])"
      ]
     },
     "execution_count": 10,
     "metadata": {},
     "output_type": "execute_result"
    }
   ],
   "source": [
    "# Vamos ordenar o array em nivel de linha\n",
    "# axis = 0 coluna\n",
    "# axis = 1 linha\n",
    "# No array2 original veja que era  2,1 e 15,-3\n",
    "# Ele foi ordenado de forma crescente em nivel de linha\n",
    "array2.sort(axis = 1)\n",
    "array2"
   ]
  },
  {
   "cell_type": "code",
   "execution_count": 12,
   "id": "eb0357b0",
   "metadata": {},
   "outputs": [
    {
     "data": {
      "text/plain": [
       "array([[-3,  2],\n",
       "       [ 1, 15]])"
      ]
     },
     "execution_count": 12,
     "metadata": {},
     "output_type": "execute_result"
    }
   ],
   "source": [
    "# Vamos ordenar o array em nivel de coluna\n",
    "# Nivel de coluna o axis = 0\n",
    "# Veja que as colunas eram 2,15 e 1,-3\n",
    "# As colunas foram ordenadas de forma crescente\n",
    "# Veja que os elementos mudaram de lugar por causa da ordenacao por coluna\n",
    "array2.sort(axis = 0)\n",
    "array2"
   ]
  },
  {
   "cell_type": "markdown",
   "id": "b524844d",
   "metadata": {},
   "source": [
    "#### Entao com esta aula nos terminamos o primeiro capitulo do curso, veja que aprendemos varias funcionalidades do NumPy muito importantes para vc utilizar no seu dia a dia, agora nos vamos aplicar estes conceitos na pratica.\n",
    "\n",
    "#### Vamos usar um dataset publico cheio de problemas que precisam ser corrigidos, e vamos entao fazer uma serie de transformacoes usando NumPy e de quebra montar um portfolio profissional para vc adicionar ao seu curriculo.\n",
    "\n",
    "#### Voce esta preparado ? Vamos nessa !"
   ]
  }
 ],
 "metadata": {
  "kernelspec": {
   "display_name": "Python 3 (ipykernel)",
   "language": "python",
   "name": "python3"
  },
  "language_info": {
   "codemirror_mode": {
    "name": "ipython",
    "version": 3
   },
   "file_extension": ".py",
   "mimetype": "text/x-python",
   "name": "python",
   "nbconvert_exporter": "python",
   "pygments_lexer": "ipython3",
   "version": "3.9.12"
  }
 },
 "nbformat": 4,
 "nbformat_minor": 5
}
