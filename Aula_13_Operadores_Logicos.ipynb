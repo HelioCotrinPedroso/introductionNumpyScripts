{
 "cells": [
  {
   "cell_type": "markdown",
   "id": "c97b89e4",
   "metadata": {},
   "source": [
    "### Manipulacao de Dados com Numpy"
   ]
  },
  {
   "cell_type": "markdown",
   "id": "2adbc37a",
   "metadata": {},
   "source": [
    "#### Aula 13 – Operadores Logicos"
   ]
  },
  {
   "cell_type": "code",
   "execution_count": 4,
   "id": "46286df5",
   "metadata": {},
   "outputs": [],
   "source": [
    "# Vamos começar do inicio que basicamente e voce importar o pacote numpy\n",
    "# O Anaconda Python ja possui o NumPy instalado por isso nao precisa instalar\n",
    "# Caso voce não consiga importa-lo tente usar o comando !pip install numpy e depois faça a importacao\n",
    "import numpy as np\n",
    "\n",
    "# Veja que importamos o numpy e demos o \"apelido\" de np que sempre sera utilizado quando formos chamar as funcoes do numpy"
   ]
  },
  {
   "cell_type": "code",
   "execution_count": 5,
   "id": "ea3de47e",
   "metadata": {},
   "outputs": [
    {
     "name": "stdout",
     "output_type": "stream",
     "text": [
      "1.22.3\n"
     ]
    }
   ],
   "source": [
    "# Vamos verificar a versao utilizada neste curso do numpy, e importante que voce utilize a mesma versao\n",
    "print(np.__version__)"
   ]
  },
  {
   "cell_type": "markdown",
   "id": "5fbaa014",
   "metadata": {},
   "source": [
    "### Aula 13 – Operadores Logicos"
   ]
  },
  {
   "cell_type": "markdown",
   "id": "9a35d2d0",
   "metadata": {},
   "source": [
    "##### Operador Logico e aquele que retorna como resultado True ou False lembram.\n",
    "\n",
    "##### == Igualdade\n",
    "##### != Diferenca\n",
    "##### >= Maior ou igual\n",
    "##### <= Menor ou igual\n",
    "##### > Maior\n",
    "##### < Menor\n",
    "\n",
    "##### Fazemos uma relacao logica e entao ele retorna se e True ou False"
   ]
  },
  {
   "cell_type": "code",
   "execution_count": 6,
   "id": "46774326",
   "metadata": {},
   "outputs": [
    {
     "data": {
      "text/plain": [
       "array([[5, 1, 2, 1],\n",
       "       [2, 9, 1, 9],\n",
       "       [7, 5, 4, 1],\n",
       "       [5, 7, 9, 2]])"
      ]
     },
     "execution_count": 6,
     "metadata": {},
     "output_type": "execute_result"
    }
   ],
   "source": [
    "# Vamos criar um array com a funcao randint\n",
    "# Ou seja ele vai criar uma matriz 4 por 4 (size)\n",
    "# Essa matriz vai ser feita de numeros aleatorios de 1 a 10 sendo 10 exclusive\n",
    "# Caso vc queira produzir o mesmo resultado aleatorio que eu use o np.random.seed()\n",
    "# Ele faz vc ter o mesmo resultado aleatorio que eu\n",
    "np.random.seed(10)\n",
    "\n",
    "array1 = np.random.randint(1,10, size = (4,4))\n",
    "array1"
   ]
  },
  {
   "cell_type": "markdown",
   "id": "bb9a5be3",
   "metadata": {},
   "source": [
    "#### any"
   ]
  },
  {
   "cell_type": "code",
   "execution_count": 9,
   "id": "979a1f60",
   "metadata": {},
   "outputs": [
    {
     "data": {
      "text/plain": [
       "True"
      ]
     },
     "execution_count": 9,
     "metadata": {},
     "output_type": "execute_result"
    }
   ],
   "source": [
    "# Vamos chamar o metodo any\n",
    "# Veja o que estamos fazendo\n",
    "# Numpy se por acaso eu dividir o array1 por 7\n",
    "# Ou seja, se cada elemento do array1 for dividido por 7\n",
    "# EU vou ter algum resultado com resto de divisao = 0 ?\n",
    "# o % em python significa --resultado da divisao-- e um modulo em python\n",
    "\n",
    "# True pq, pq o any vai verificar se --qualquer-- elemento do array\n",
    "# tem ou nao resto de divisao por 7\n",
    "# se pelo menos 1 elemento tiver resto de divisao == 0 ele retorna True\n",
    "# Se nao ele retornara False\n",
    "# Mude o Seed para 100 e veja o resultado mudar pois nao havera numero divisivel no array\n",
    "\n",
    "np.any((array1 % 7) == 0)"
   ]
  },
  {
   "cell_type": "markdown",
   "id": "2c2a0283",
   "metadata": {},
   "source": [
    "#### all"
   ]
  },
  {
   "cell_type": "code",
   "execution_count": 10,
   "id": "2265bea3",
   "metadata": {},
   "outputs": [
    {
     "data": {
      "text/plain": [
       "False"
      ]
     },
     "execution_count": 10,
     "metadata": {},
     "output_type": "execute_result"
    }
   ],
   "source": [
    "# Agora queremos saber se TODOS os elementos \n",
    "# Do array tem resto de divisao por 7 == 0, veja que nao claro\n",
    "\n",
    "np.all((array1 % 7) == 0)"
   ]
  },
  {
   "cell_type": "code",
   "execution_count": 11,
   "id": "3badadcf",
   "metadata": {},
   "outputs": [
    {
     "data": {
      "text/plain": [
       "True"
      ]
     },
     "execution_count": 11,
     "metadata": {},
     "output_type": "execute_result"
    }
   ],
   "source": [
    "# Agora todos os elementos sao menores que 20\n",
    "# Nos criamos um array de numeros aleatores inteiros de 1 ate 10 lembra\n",
    "# Ou seja, True\n",
    "np.all((array1 < 20))"
   ]
  },
  {
   "cell_type": "markdown",
   "id": "96e8510c",
   "metadata": {},
   "source": [
    "#### Mas e se alem de verificar quisermos saber qual e o elemento True ? para isso usamos outra funcao"
   ]
  },
  {
   "cell_type": "markdown",
   "id": "619e1d9d",
   "metadata": {},
   "source": [
    "### where"
   ]
  },
  {
   "cell_type": "code",
   "execution_count": 14,
   "id": "bf41e0bf",
   "metadata": {},
   "outputs": [
    {
     "data": {
      "text/plain": [
       "(array([2], dtype=int64),)"
      ]
     },
     "execution_count": 14,
     "metadata": {},
     "output_type": "execute_result"
    }
   ],
   "source": [
    "# Veja, queremos o indice do elemento do array \n",
    "# Da coluna de indice 2\n",
    "# Onde este elemento seja maior que 3 E menor que 8\n",
    "# Ele disse que e o elemento de indice 2\n",
    "# Ou seja e o numero 4\n",
    "np.where(np.logical_and(array1[:,2] > 3, array1[:,2] < 8))"
   ]
  },
  {
   "cell_type": "code",
   "execution_count": 15,
   "id": "b42a9ab1",
   "metadata": {},
   "outputs": [
    {
     "data": {
      "text/plain": [
       "array([[5, 1, 2, 1],\n",
       "       [2, 9, 1, 9],\n",
       "       [7, 5, 4, 1],\n",
       "       [5, 7, 9, 2]])"
      ]
     },
     "execution_count": 15,
     "metadata": {},
     "output_type": "execute_result"
    }
   ],
   "source": [
    "# Veja coluna de indice 2 inteira (2,1,4,9)\n",
    "# E a linha indice 2 ( numero 4)\n",
    "np.random.seed(10)\n",
    "\n",
    "array1 = np.random.randint(1,10, size = (4,4))\n",
    "array1\n",
    "\n",
    "# Perceba que as possibilidades de filtragem vao ficando mais inteligentes\n",
    "# Podemos fazer qualquer tipo de filtragem que vc conseguir imaginar"
   ]
  },
  {
   "cell_type": "markdown",
   "id": "925b9f78",
   "metadata": {},
   "source": [
    "### intersect1d"
   ]
  },
  {
   "cell_type": "code",
   "execution_count": 16,
   "id": "eda0ff55",
   "metadata": {},
   "outputs": [
    {
     "data": {
      "text/plain": [
       "array([2], dtype=int64)"
      ]
     },
     "execution_count": 16,
     "metadata": {},
     "output_type": "execute_result"
    }
   ],
   "source": [
    "# Podemos fazer o mesmo tipo de busca que a anterior so que utilizando intersect1d\n",
    "# E o where em vez do logical_and\n",
    "# Veja que a funcao muda um pouco mas a saida e a mesma\n",
    "np.intersect1d(np.where(array1[:,2] > 3), np.where(array1[:,2] < 8))"
   ]
  }
 ],
 "metadata": {
  "kernelspec": {
   "display_name": "Python 3 (ipykernel)",
   "language": "python",
   "name": "python3"
  },
  "language_info": {
   "codemirror_mode": {
    "name": "ipython",
    "version": 3
   },
   "file_extension": ".py",
   "mimetype": "text/x-python",
   "name": "python",
   "nbconvert_exporter": "python",
   "pygments_lexer": "ipython3",
   "version": "3.9.12"
  }
 },
 "nbformat": 4,
 "nbformat_minor": 5
}
