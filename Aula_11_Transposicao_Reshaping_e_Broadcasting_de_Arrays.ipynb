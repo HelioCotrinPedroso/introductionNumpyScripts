{
 "cells": [
  {
   "cell_type": "markdown",
   "id": "c97b89e4",
   "metadata": {},
   "source": [
    "### Manipulacao de Dados com Numpy"
   ]
  },
  {
   "cell_type": "markdown",
   "id": "2adbc37a",
   "metadata": {},
   "source": [
    "#### Aula 11 – Transposicao e Reshaping de Arrays"
   ]
  },
  {
   "cell_type": "code",
   "execution_count": 1,
   "id": "46286df5",
   "metadata": {},
   "outputs": [],
   "source": [
    "# Vamos começar do inicio que basicamente e voce importar o pacote numpy\n",
    "# O Anaconda Python ja possui o NumPy instalado por isso nao precisa instalar\n",
    "# Caso voce não consiga importa-lo tente usar o comando !pip install numpy e depois faça a importacao\n",
    "import numpy as np\n",
    "\n",
    "# Veja que importamos o numpy e demos o \"apelido\" de np que sempre sera utilizado quando formos chamar as funcoes do numpy"
   ]
  },
  {
   "cell_type": "code",
   "execution_count": 2,
   "id": "ea3de47e",
   "metadata": {},
   "outputs": [
    {
     "name": "stdout",
     "output_type": "stream",
     "text": [
      "1.22.3\n"
     ]
    }
   ],
   "source": [
    "# Vamos verificar a versao utilizada neste curso do numpy, e importante que voce utilize a mesma versao\n",
    "print(np.__version__)"
   ]
  },
  {
   "cell_type": "markdown",
   "id": "5fbaa014",
   "metadata": {},
   "source": [
    "###  Aula 11 – Transposicao e Reshaping de Arrays"
   ]
  },
  {
   "cell_type": "markdown",
   "id": "401b0bf2",
   "metadata": {},
   "source": [
    "#### Esta aula e muito importante, pois um dos trabalhos que mais podem dar trabalho e voce mudar o formato dos dados para mudar a forma de calcular ou adequar o formato para alguma view ou algoritmo que precisa receber os dados em um formato diferente do original, e com numpy podemos fazer isto facilmente.\n",
    "\n",
    "#### Vamos mais uma vez aumentar o grau de dificuldade"
   ]
  },
  {
   "cell_type": "markdown",
   "id": "d6a30fa1",
   "metadata": {},
   "source": [
    "### Transposicao e Reshaping de Arrays"
   ]
  },
  {
   "cell_type": "code",
   "execution_count": 3,
   "id": "47bc1a77",
   "metadata": {},
   "outputs": [
    {
     "data": {
      "text/plain": [
       "array([[ 1,  2,  3,  4,  5],\n",
       "       [ 6,  7,  8,  9, 10]])"
      ]
     },
     "execution_count": 3,
     "metadata": {},
     "output_type": "execute_result"
    }
   ],
   "source": [
    "# Vamos comecar criando um array normal\n",
    "# Eu gosto de trabalho com um array menor,\n",
    "# Para vc conseguir acompanhar as alteracoes sendo feitas facilmente\n",
    "\n",
    "array1 = np.array([[1,2,3,4,5],[6,7,8,9,10]])\n",
    "array1"
   ]
  },
  {
   "cell_type": "code",
   "execution_count": 4,
   "id": "6b1ede98",
   "metadata": {},
   "outputs": [
    {
     "data": {
      "text/plain": [
       "(2, 5)"
      ]
     },
     "execution_count": 4,
     "metadata": {},
     "output_type": "execute_result"
    }
   ],
   "source": [
    "# Vamos ver o shape do array original\n",
    "array1.shape"
   ]
  },
  {
   "cell_type": "code",
   "execution_count": 5,
   "id": "62d828ae",
   "metadata": {},
   "outputs": [
    {
     "data": {
      "text/plain": [
       "array([[ 1,  6],\n",
       "       [ 2,  7],\n",
       "       [ 3,  8],\n",
       "       [ 4,  9],\n",
       "       [ 5, 10]])"
      ]
     },
     "execution_count": 5,
     "metadata": {},
     "output_type": "execute_result"
    }
   ],
   "source": [
    "# Vamos fazer a transposta da matriz (tbm conhecido como pivot)\n",
    "# Perceba que os dados mudaram de formato\n",
    "# O shape foi invertido\n",
    "# O que era linha virou coluna e o que era coluna virou linha\n",
    "array1.T"
   ]
  },
  {
   "cell_type": "code",
   "execution_count": 6,
   "id": "10520177",
   "metadata": {},
   "outputs": [
    {
     "data": {
      "text/plain": [
       "(5, 2)"
      ]
     },
     "execution_count": 6,
     "metadata": {},
     "output_type": "execute_result"
    }
   ],
   "source": [
    "# Veja o shape invertido\n",
    "# o T e um metodo indicando que queremos a transposta\n",
    "array1.T.shape"
   ]
  },
  {
   "cell_type": "code",
   "execution_count": 7,
   "id": "725233af",
   "metadata": {},
   "outputs": [
    {
     "data": {
      "text/plain": [
       "array([[ 1,  6],\n",
       "       [ 2,  7],\n",
       "       [ 3,  8],\n",
       "       [ 4,  9],\n",
       "       [ 5, 10]])"
      ]
     },
     "execution_count": 7,
     "metadata": {},
     "output_type": "execute_result"
    }
   ],
   "source": [
    "# Vamos fazer a transposta da matriz(pivot) com funcao np\n",
    "\n",
    "np.transpose(array1)"
   ]
  },
  {
   "cell_type": "code",
   "execution_count": 8,
   "id": "6dcd5335",
   "metadata": {},
   "outputs": [
    {
     "data": {
      "text/plain": [
       "(5, 2)"
      ]
     },
     "execution_count": 8,
     "metadata": {},
     "output_type": "execute_result"
    }
   ],
   "source": [
    "# Veja o shape\n",
    "np.transpose(array1).shape"
   ]
  },
  {
   "cell_type": "markdown",
   "id": "848b3372",
   "metadata": {},
   "source": [
    "##### Saiba que fazer a transposta e uma tarefa fundamental para criacao de modelos de inteligencia artifical avancados, IA em muitos casos e matematica pura e usa operacoes entre matrizes."
   ]
  },
  {
   "cell_type": "markdown",
   "id": "4e3634b3",
   "metadata": {},
   "source": [
    "### Broadcasting"
   ]
  },
  {
   "cell_type": "markdown",
   "id": "709c7850",
   "metadata": {},
   "source": [
    "#### Broadcasting e outro conceito ligado a transposicao de matrizes, que e a forma como o numpy trata arrays de diferentes formas durante operacoes entre esses arrays.\n"
   ]
  },
  {
   "cell_type": "code",
   "execution_count": 9,
   "id": "ee4d54df",
   "metadata": {},
   "outputs": [
    {
     "data": {
      "text/plain": [
       "array([[1],\n",
       "       [2],\n",
       "       [3]])"
      ]
     },
     "execution_count": 9,
     "metadata": {},
     "output_type": "execute_result"
    }
   ],
   "source": [
    "# Vamos começar criando 2 arrays com diferentes shapes\n",
    "# Sendo o primeiro array de 3 dimensoes com 1 registro cada dimensao\n",
    "array1 = np.array([[1], [2], [3]])\n",
    "array1\n"
   ]
  },
  {
   "cell_type": "code",
   "execution_count": 10,
   "id": "16a94743",
   "metadata": {},
   "outputs": [
    {
     "data": {
      "text/plain": [
       "(3, 1)"
      ]
     },
     "execution_count": 10,
     "metadata": {},
     "output_type": "execute_result"
    }
   ],
   "source": [
    "array1.shape"
   ]
  },
  {
   "cell_type": "code",
   "execution_count": 11,
   "id": "c03573e1",
   "metadata": {},
   "outputs": [
    {
     "data": {
      "text/plain": [
       "array([4, 5, 6])"
      ]
     },
     "execution_count": 11,
     "metadata": {},
     "output_type": "execute_result"
    }
   ],
   "source": [
    "# O segundo array tem uma unica dimensao com 3 registros\n",
    "array2 = np.array([4, 5, 6])\n",
    "array2"
   ]
  },
  {
   "cell_type": "code",
   "execution_count": 12,
   "id": "bf52443a",
   "metadata": {},
   "outputs": [
    {
     "data": {
      "text/plain": [
       "(3,)"
      ]
     },
     "execution_count": 12,
     "metadata": {},
     "output_type": "execute_result"
    }
   ],
   "source": [
    "# Perceba que os 2 arrays tem formatos diferentes\n",
    "array2.shape"
   ]
  },
  {
   "cell_type": "code",
   "execution_count": 13,
   "id": "2bcbd9c4",
   "metadata": {},
   "outputs": [
    {
     "data": {
      "text/plain": [
       "<numpy.broadcast at 0x1a9527c9140>"
      ]
     },
     "execution_count": 13,
     "metadata": {},
     "output_type": "execute_result"
    }
   ],
   "source": [
    "# Entao nos vamos aplicar um broadcast entre os arrays de diferentes formatos\n",
    "np.broadcast(array2, array1)"
   ]
  },
  {
   "cell_type": "code",
   "execution_count": 14,
   "id": "79666ef7",
   "metadata": {},
   "outputs": [],
   "source": [
    "array1 = np.array([[1], [2], [3]])\n",
    "array2 = np.array([4, 5, 6])\n",
    "\n"
   ]
  },
  {
   "cell_type": "code",
   "execution_count": 15,
   "id": "0d367800",
   "metadata": {},
   "outputs": [
    {
     "data": {
      "text/plain": [
       "<numpy.broadcast at 0x1a9527c7f40>"
      ]
     },
     "execution_count": 15,
     "metadata": {},
     "output_type": "execute_result"
    }
   ],
   "source": [
    "operacao = np.broadcast(array1, array2)\n",
    "operacao"
   ]
  },
  {
   "cell_type": "code",
   "execution_count": 16,
   "id": "8ff1ce31",
   "metadata": {},
   "outputs": [
    {
     "data": {
      "text/plain": [
       "(3, 3)"
      ]
     },
     "execution_count": 16,
     "metadata": {},
     "output_type": "execute_result"
    }
   ],
   "source": [
    "# Perceba que vai dar um erro pois ainda  nao temos um objeto array que possamos fazer slicing deste broadcast\n",
    "operacao.shape"
   ]
  },
  {
   "cell_type": "code",
   "execution_count": 17,
   "id": "078bb34d",
   "metadata": {},
   "outputs": [
    {
     "ename": "TypeError",
     "evalue": "'numpy.broadcast' object is not subscriptable",
     "output_type": "error",
     "traceback": [
      "\u001b[1;31m---------------------------------------------------------------------------\u001b[0m",
      "\u001b[1;31mTypeError\u001b[0m                                 Traceback (most recent call last)",
      "Input \u001b[1;32mIn [17]\u001b[0m, in \u001b[0;36m<cell line: 4>\u001b[1;34m()\u001b[0m\n\u001b[0;32m      1\u001b[0m \u001b[38;5;66;03m# Perceba que o slicing nao funcionou\u001b[39;00m\n\u001b[0;32m      2\u001b[0m \u001b[38;5;66;03m# pois os dados estao no formato np.broadcast e nao array que da para fazer slicing\u001b[39;00m\n\u001b[0;32m      3\u001b[0m \u001b[38;5;66;03m# Este objeto possui um shape e pode ser usado para aplicar loops mas nao podemos fazer slicing ainda\u001b[39;00m\n\u001b[1;32m----> 4\u001b[0m \u001b[43moperacao\u001b[49m\u001b[43m[\u001b[49m\u001b[43m:\u001b[49m\u001b[43m]\u001b[49m\n",
      "\u001b[1;31mTypeError\u001b[0m: 'numpy.broadcast' object is not subscriptable"
     ]
    }
   ],
   "source": [
    "# Perceba que o slicing nao funcionou\n",
    "# pois os dados estao no formato np.broadcast e nao array que da para fazer slicing\n",
    "# Este objeto possui um shape e pode ser usado para aplicar loops mas nao podemos fazer slicing ainda\n",
    "operacao[:]"
   ]
  },
  {
   "cell_type": "code",
   "execution_count": null,
   "id": "8ec50d77",
   "metadata": {},
   "outputs": [],
   "source": [
    "# Veja que vou usar outro recurso de bradcast do numpy\n",
    "# Ele conseguiu vamos dizer compatibilizar os 2 arrays de diferentes formas\n",
    "# 1 array tinha 3 dimensoes e 1 registro cada o outro era o aposto\n",
    "# Entao ele gerou um array de 3,3 para cada array\n",
    "# Vamos fazer uma operacao entre esses 2 arrays\n",
    "# perceba que os arrays foram esticados para conseguir serem compativeis\n",
    "np.broadcast_arrays(array1, array2)"
   ]
  },
  {
   "cell_type": "code",
   "execution_count": 18,
   "id": "4e5a0dc1",
   "metadata": {},
   "outputs": [
    {
     "data": {
      "text/plain": [
       "array([[0.00000000e+000, 0.00000000e+000, 0.00000000e+000],\n",
       "       [0.00000000e+000, 0.00000000e+000, 8.33982810e-321],\n",
       "       [1.24610723e-306, 1.29061142e-306, 7.34514117e+223]])"
      ]
     },
     "execution_count": 18,
     "metadata": {},
     "output_type": "execute_result"
    }
   ],
   "source": [
    "# Olha que legal o que vamos fazer \n",
    "# Vamos criar um array vazio que vai receber a operacao gerando assim um array com o broadcast\n",
    "# Sendo que o formato deste array vai ser o shape do broadcast \n",
    "\n",
    "saida = np.empty(operacao.shape)\n",
    "saida"
   ]
  },
  {
   "cell_type": "code",
   "execution_count": 19,
   "id": "14f7eba3",
   "metadata": {},
   "outputs": [
    {
     "data": {
      "text/plain": [
       "array([[ 4.,  5.,  6.],\n",
       "       [ 8., 10., 12.],\n",
       "       [12., 15., 18.]])"
      ]
     },
     "execution_count": 19,
     "metadata": {},
     "output_type": "execute_result"
    }
   ],
   "source": [
    "# Agora vamos fazer uma iteracao entre os arrays do bradcast aplicando uma operacao\n",
    "# Usando este lint comprehension conseguimos aproveitar alguns recursos a mais\n",
    "# Veja que a saida e uma iteracao entre os arrays\n",
    "# Array 1 era [1] [2] [3]\n",
    "# array2 [4 5 6]\n",
    "# Entao ele gerou uma saida que fosse [4+1,5+1,6+1], [4+2,5+2,6+2], [4+3,5+3,6+3]\n",
    "saida.flat = [u*v for (u,v) in operacao]\n",
    "saida\n"
   ]
  },
  {
   "cell_type": "code",
   "execution_count": 20,
   "id": "d38d0557",
   "metadata": {},
   "outputs": [
    {
     "data": {
      "text/plain": [
       "array([4., 5., 6.])"
      ]
     },
     "execution_count": 20,
     "metadata": {},
     "output_type": "execute_result"
    }
   ],
   "source": [
    "saida[0]"
   ]
  },
  {
   "cell_type": "markdown",
   "id": "94c8ecb6",
   "metadata": {},
   "source": [
    "### Broadcasting com Transposicao de matrizes"
   ]
  },
  {
   "cell_type": "markdown",
   "id": "f8a0bb62",
   "metadata": {},
   "source": [
    "#### Nos vamos aplicar desta vez os dois conceitos que aprendemos nesta aula juntos aplicacando o Broadcast entre matrizes de diferentes formatos"
   ]
  },
  {
   "cell_type": "code",
   "execution_count": 21,
   "id": "de36c21d",
   "metadata": {},
   "outputs": [
    {
     "data": {
      "text/plain": [
       "array([[1, 2, 3]])"
      ]
     },
     "execution_count": 21,
     "metadata": {},
     "output_type": "execute_result"
    }
   ],
   "source": [
    "array3 = np.array([[1,2,3]]);array3"
   ]
  },
  {
   "cell_type": "code",
   "execution_count": 22,
   "id": "84f24663",
   "metadata": {},
   "outputs": [
    {
     "data": {
      "text/plain": [
       "array([[1],\n",
       "       [2],\n",
       "       [3]])"
      ]
     },
     "execution_count": 22,
     "metadata": {},
     "output_type": "execute_result"
    }
   ],
   "source": [
    "# Transposta do array\n",
    "array3.T"
   ]
  },
  {
   "cell_type": "code",
   "execution_count": 23,
   "id": "87961bee",
   "metadata": {},
   "outputs": [
    {
     "data": {
      "text/plain": [
       "array([[2, 3, 4],\n",
       "       [3, 4, 5],\n",
       "       [4, 5, 6]])"
      ]
     },
     "execution_count": 23,
     "metadata": {},
     "output_type": "execute_result"
    }
   ],
   "source": [
    "# Agora vamos fazer uma operacao\n",
    "# Entre o array2 e a sua transposta\n",
    "array3.T + array3"
   ]
  },
  {
   "cell_type": "code",
   "execution_count": 27,
   "id": "31c16465",
   "metadata": {},
   "outputs": [
    {
     "data": {
      "text/plain": [
       "array([[1, 2, 3]])"
      ]
     },
     "execution_count": 27,
     "metadata": {},
     "output_type": "execute_result"
    }
   ],
   "source": [
    "# Perceba o que aconteceu, o array2 normal tem 1 linha e 3 colunas\n",
    "array3"
   ]
  },
  {
   "cell_type": "code",
   "execution_count": 28,
   "id": "e5e7c1ed",
   "metadata": {},
   "outputs": [
    {
     "data": {
      "text/plain": [
       "array([[1],\n",
       "       [2],\n",
       "       [3]])"
      ]
     },
     "execution_count": 28,
     "metadata": {},
     "output_type": "execute_result"
    }
   ],
   "source": [
    "# Ja o array2 com transposta tem 3 linhas e 1 coluna\n",
    "array3.T"
   ]
  },
  {
   "cell_type": "code",
   "execution_count": 26,
   "id": "5fa6c011",
   "metadata": {},
   "outputs": [
    {
     "data": {
      "text/plain": [
       "array([[2, 3, 4],\n",
       "       [3, 4, 5],\n",
       "       [4, 5, 6]])"
      ]
     },
     "execution_count": 26,
     "metadata": {},
     "output_type": "execute_result"
    }
   ],
   "source": [
    "# O que aconteceu\n",
    "# O Numpy pegou os 3 elementos do array3 origina e sou cada elemento \n",
    "# Pelo elemento do array3 transposta\n",
    "# 1+1,2+1,3+1 depois 1+2,2+2,3+2 depois 1+3, 2+3, 3+3\n",
    "# No final ficou um array 3 por 3\n",
    "array3.T + array3"
   ]
  },
  {
   "cell_type": "code",
   "execution_count": 29,
   "id": "2f3a0a01",
   "metadata": {},
   "outputs": [
    {
     "data": {
      "text/plain": [
       "array([[2, 4],\n",
       "       [3, 5],\n",
       "       [4, 6]])"
      ]
     },
     "execution_count": 29,
     "metadata": {},
     "output_type": "execute_result"
    }
   ],
   "source": [
    "# O que acontece se em vez de fazer a operacao com array,\n",
    "# Nos fazermos a operacao com o shape do array \n",
    "# Ficou em dificil de entender, nao ?\n",
    "# Calma que eu explico\n",
    "array3.T + array3.shape"
   ]
  },
  {
   "cell_type": "code",
   "execution_count": 32,
   "id": "c23830fe",
   "metadata": {},
   "outputs": [
    {
     "data": {
      "text/plain": [
       "array([[1],\n",
       "       [2],\n",
       "       [3]])"
      ]
     },
     "execution_count": 32,
     "metadata": {},
     "output_type": "execute_result"
    }
   ],
   "source": [
    "array3.T"
   ]
  },
  {
   "cell_type": "code",
   "execution_count": 33,
   "id": "e988e295",
   "metadata": {},
   "outputs": [
    {
     "data": {
      "text/plain": [
       "(1, 3)"
      ]
     },
     "execution_count": 33,
     "metadata": {},
     "output_type": "execute_result"
    }
   ],
   "source": [
    "array3.shape"
   ]
  },
  {
   "cell_type": "code",
   "execution_count": 30,
   "id": "e85fc2b7",
   "metadata": {},
   "outputs": [
    {
     "data": {
      "text/plain": [
       "array([[2, 4],\n",
       "       [3, 5],\n",
       "       [4, 6]])"
      ]
     },
     "execution_count": 30,
     "metadata": {},
     "output_type": "execute_result"
    }
   ],
   "source": [
    "# O shape do array2 e == 1, 3 ou seja 2 registros 1 dimensao\n",
    "# O array2 original e == 1,2,3\n",
    "# Ele fez o mesmo raciocinio \n",
    "# Pegou o 1º elemento do array2 original o 1 e somou por cada elemento do shape do array2\n",
    "# Ou seja \n",
    "# 1+1 = 2, 1+3 = 4 depois\n",
    "# 2+1 = 3, 2+3 = 5 depois\n",
    "# 3+1 = 4, 3+3 = 6\n",
    "array3.T + array3.shape\n",
    "\n",
    "# Ae que entra o conceito que eu falei que dependendo da forma que vc fazer o slicing\n",
    "# Pode mudar o resultado da operacao usando shape"
   ]
  }
 ],
 "metadata": {
  "kernelspec": {
   "display_name": "Python 3 (ipykernel)",
   "language": "python",
   "name": "python3"
  },
  "language_info": {
   "codemirror_mode": {
    "name": "ipython",
    "version": 3
   },
   "file_extension": ".py",
   "mimetype": "text/x-python",
   "name": "python",
   "nbconvert_exporter": "python",
   "pygments_lexer": "ipython3",
   "version": "3.9.12"
  }
 },
 "nbformat": 4,
 "nbformat_minor": 5
}
