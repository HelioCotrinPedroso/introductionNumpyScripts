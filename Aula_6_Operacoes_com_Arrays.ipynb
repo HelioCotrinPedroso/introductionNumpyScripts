{
 "cells": [
  {
   "cell_type": "markdown",
   "id": "6a621a31",
   "metadata": {},
   "source": [
    "### Manipulacao de Dados com Numpy"
   ]
  },
  {
   "cell_type": "markdown",
   "id": "a6f8361c",
   "metadata": {},
   "source": [
    "#### Aula 6 – Operacoes com arrays !"
   ]
  },
  {
   "cell_type": "code",
   "execution_count": 1,
   "id": "025d887d",
   "metadata": {},
   "outputs": [],
   "source": [
    "# Vamos começar do inicio que basicamente e voce importar o pacote numpy\n",
    "# O Anaconda Python ja possui o NumPy instalado por isso nao precisa instalar\n",
    "# Caso voce não consiga importa-lo tente usar o comando !pip install numpy e depois faça a importacao\n",
    "import numpy as np\n",
    "\n",
    "# Veja que importamos o numpy e demos o \"apelido\" de np que sempre sera utilizado quando formos chamar as funcoes do numpy"
   ]
  },
  {
   "cell_type": "code",
   "execution_count": 2,
   "id": "0e4c3e24",
   "metadata": {},
   "outputs": [
    {
     "name": "stdout",
     "output_type": "stream",
     "text": [
      "1.22.3\n"
     ]
    }
   ],
   "source": [
    "# Vamos verificar a versao utilizada neste curso do numpy, e importante que voce utilize a mesma versao\n",
    "print(np.__version__)"
   ]
  },
  {
   "cell_type": "markdown",
   "id": "8e43fbca",
   "metadata": {},
   "source": [
    "### Aula 6 - Operacoes com Arrays"
   ]
  },
  {
   "cell_type": "markdown",
   "id": "c4bf7c28",
   "metadata": {},
   "source": [
    "##### Perceba que ate agora nos criamos uma serie de arrays com diferentes tipos de dados, agora vamos aumentando o nivel aos poucos, vamos fazer operacoes com esses arrays algo muito comum no dia a dia de um programador"
   ]
  },
  {
   "cell_type": "markdown",
   "id": "8ddee257",
   "metadata": {},
   "source": [
    "##### Multiplicacao"
   ]
  },
  {
   "cell_type": "code",
   "execution_count": 3,
   "id": "a7f0d934",
   "metadata": {},
   "outputs": [
    {
     "data": {
      "text/plain": [
       "array([ 0,  1,  2,  3,  4,  5,  6,  7,  8,  9, 10, 11, 12, 13, 14, 15, 16,\n",
       "       17, 18, 19])"
      ]
     },
     "execution_count": 3,
     "metadata": {},
     "output_type": "execute_result"
    }
   ],
   "source": [
    "# Vamos começar criando um array comum usando arange\n",
    "\n",
    "array1 = np.arange(0,20);array1\n",
    "\n",
    "## Existem duas formas de criar este array usando operacoes"
   ]
  },
  {
   "cell_type": "code",
   "execution_count": 7,
   "id": "b33b2cd5",
   "metadata": {},
   "outputs": [
    {
     "data": {
      "text/plain": [
       "array([ 0,  5, 10, 15, 20, 25, 30, 35, 40, 45, 50, 55, 60, 65, 70, 75, 80,\n",
       "       85, 90, 95])"
      ]
     },
     "execution_count": 7,
     "metadata": {},
     "output_type": "execute_result"
    }
   ],
   "source": [
    "# Perceba que cada elemento do array foi multiplicados por 5\n",
    "# Porém o array se mantem como contagem de 0 a 19, claro\n",
    "# Pois o objeto criado foi um array de 0 a 19\n",
    "# Tudo isso com uma unica expressao simples\n",
    "array1*5"
   ]
  },
  {
   "cell_type": "code",
   "execution_count": 8,
   "id": "09443a83",
   "metadata": {},
   "outputs": [
    {
     "data": {
      "text/plain": [
       "array([ 0,  5, 10, 15, 20, 25, 30, 35, 40, 45, 50, 55, 60, 65, 70, 75, 80,\n",
       "       85, 90, 95])"
      ]
     },
     "execution_count": 8,
     "metadata": {},
     "output_type": "execute_result"
    }
   ],
   "source": [
    "# Agora vamos colocar esta operacao de multiplicacao dentro do objeto\n",
    "array2 = np.arange(0,20)*5\n",
    "array2\n",
    "# Perceba que o array agora e essa contagem de 0 a 19\n",
    "# Onde todos os valores estao sendo multiplicados por 5"
   ]
  },
  {
   "cell_type": "markdown",
   "id": "3e48934d",
   "metadata": {},
   "source": [
    "##### Potencia"
   ]
  },
  {
   "cell_type": "code",
   "execution_count": 9,
   "id": "a2ecfff0",
   "metadata": {},
   "outputs": [
    {
     "data": {
      "text/plain": [
       "array([  0,   1,   4,   9,  16,  25,  36,  49,  64,  81, 100, 121, 144,\n",
       "       169, 196, 225, 256, 289, 324, 361])"
      ]
     },
     "execution_count": 9,
     "metadata": {},
     "output_type": "execute_result"
    }
   ],
   "source": [
    "# Vamos elevar todos os numeros do array ao quadrado\n",
    "# No Python apenas 1 aasterisco (*) e multiplicacao\n",
    "# 2 asteriscos (**) e potencia em python\n",
    "array3 = np.arange(0,20)**2;array3"
   ]
  },
  {
   "cell_type": "markdown",
   "id": "7e57f922",
   "metadata": {},
   "source": [
    "##### Soma"
   ]
  },
  {
   "cell_type": "code",
   "execution_count": 10,
   "id": "9e36c06d",
   "metadata": {},
   "outputs": [
    {
     "data": {
      "text/plain": [
       "array([10, 11, 12, 13, 14, 15, 16, 17, 18, 19, 20, 21, 22, 23, 24, 25, 26,\n",
       "       27, 28, 29])"
      ]
     },
     "execution_count": 10,
     "metadata": {},
     "output_type": "execute_result"
    }
   ],
   "source": [
    "array4 = np.arange(0,20) + 10;array4"
   ]
  },
  {
   "cell_type": "code",
   "execution_count": 11,
   "id": "88848fb9",
   "metadata": {},
   "outputs": [
    {
     "data": {
      "text/plain": [
       "array([10, 12, 14, 16, 18, 20, 22, 24, 26, 28])"
      ]
     },
     "execution_count": 11,
     "metadata": {},
     "output_type": "execute_result"
    }
   ],
   "source": [
    "# Vamos criar um array de 0 a 19 e adicinar +10 em cada elemento do array\n",
    "# Vamos criar 2 arrays iguais para partirmos para proxima parte\n",
    "array5 = np.arange(0,20,2) + 10\n",
    "array6 = np.arange(0,20,2) + 10;array6"
   ]
  },
  {
   "cell_type": "markdown",
   "id": "4633334e",
   "metadata": {},
   "source": [
    "#### Operacoes entre arrays"
   ]
  },
  {
   "cell_type": "code",
   "execution_count": 12,
   "id": "9453142d",
   "metadata": {},
   "outputs": [
    {
     "data": {
      "text/plain": [
       "array([20, 24, 28, 32, 36, 40, 44, 48, 52, 56])"
      ]
     },
     "execution_count": 12,
     "metadata": {},
     "output_type": "execute_result"
    }
   ],
   "source": [
    "# Soma\n",
    "# Perceba que os 2 arrays tem o mesmo tamanho\n",
    "# E cada elemento do array5 somou ao elemento do array6 do indice correspondente\n",
    "# Ou seja o 1º elemento do array5 somou com o 1º elemento do array6\n",
    "# 2º com 2º etc\n",
    "array5 + array6"
   ]
  },
  {
   "cell_type": "code",
   "execution_count": 13,
   "id": "ff0ff953",
   "metadata": {},
   "outputs": [
    {
     "data": {
      "text/plain": [
       "array([0, 0, 0, 0, 0, 0, 0, 0, 0, 0])"
      ]
     },
     "execution_count": 13,
     "metadata": {},
     "output_type": "execute_result"
    }
   ],
   "source": [
    "# Subtracao\n",
    "array5 - array6"
   ]
  },
  {
   "cell_type": "code",
   "execution_count": 14,
   "id": "afbf0a9e",
   "metadata": {},
   "outputs": [
    {
     "data": {
      "text/plain": [
       "array([100, 144, 196, 256, 324, 400, 484, 576, 676, 784])"
      ]
     },
     "execution_count": 14,
     "metadata": {},
     "output_type": "execute_result"
    }
   ],
   "source": [
    "# Multiplicacao\n",
    "array5 * array6"
   ]
  },
  {
   "cell_type": "code",
   "execution_count": 15,
   "id": "8d27125b",
   "metadata": {},
   "outputs": [
    {
     "data": {
      "text/plain": [
       "array([1., 1., 1., 1., 1., 1., 1., 1., 1., 1.])"
      ]
     },
     "execution_count": 15,
     "metadata": {},
     "output_type": "execute_result"
    }
   ],
   "source": [
    "# Divisao\n",
    "array5 / array6"
   ]
  },
  {
   "cell_type": "markdown",
   "id": "a72afc49",
   "metadata": {},
   "source": [
    "#### Comparacao entre arrays"
   ]
  },
  {
   "cell_type": "code",
   "execution_count": 18,
   "id": "7931d88c",
   "metadata": {},
   "outputs": [
    {
     "data": {
      "text/plain": [
       "array([False, False, False, False, False, False, False, False, False,\n",
       "       False])"
      ]
     },
     "execution_count": 18,
     "metadata": {},
     "output_type": "execute_result"
    }
   ],
   "source": [
    "array5 > array6"
   ]
  },
  {
   "cell_type": "code",
   "execution_count": null,
   "id": "81130a58",
   "metadata": {},
   "outputs": [],
   "source": [
    "# Nao esqueca\n",
    "# apenas um sinal de igual (=) vc esta fazendo atribuicao\n",
    "# Para fazer comparacao vc deve usar dois sinais de igual (==)\n",
    "# E diferenca nos usamos o !=\n",
    "array5 == array6"
   ]
  },
  {
   "cell_type": "code",
   "execution_count": 19,
   "id": "b5737b35",
   "metadata": {},
   "outputs": [],
   "source": [
    "# Booleanos\n",
    "array7 = np.array([False, True, False, True])\n",
    "array8 = np.array([False, False, True, True])\n"
   ]
  },
  {
   "cell_type": "code",
   "execution_count": 20,
   "id": "6de76360",
   "metadata": {},
   "outputs": [
    {
     "data": {
      "text/plain": [
       "array([False, False, False,  True])"
      ]
     },
     "execution_count": 20,
     "metadata": {},
     "output_type": "execute_result"
    }
   ],
   "source": [
    "# Vamos usar uma funcao do numpy \n",
    "# para fazer comparacao logica booleana entre os elementos do array\n",
    "np.logical_and(array7,array8)\n",
    "\n",
    "# Veja false + false = false, true + true = true, false + true = false\n",
    "# Isso e logica computacional\n",
    "# Quase tudo feito no computador e no seu dia a dia depende da logica computacional"
   ]
  },
  {
   "cell_type": "markdown",
   "id": "a5f15f21",
   "metadata": {},
   "source": [
    "#### Nos poderiamos criar arrays com o python puro normal sem usar o NumPy. Porem o NumPy e muito mais performatico para fazer estas mesmas operacoes, veja uma comparacao."
   ]
  },
  {
   "cell_type": "code",
   "execution_count": 21,
   "id": "ca1bc399",
   "metadata": {
    "scrolled": true
   },
   "outputs": [
    {
     "name": "stdout",
     "output_type": "stream",
     "text": [
      "2.07 µs ± 7.27 ns per loop (mean ± std. dev. of 7 runs, 100,000 loops each)\n"
     ]
    }
   ],
   "source": [
    "# Veja o tempo estimado em microsegundos aquele us = microsegundos\n",
    "# Isso para fazer as mesmas operacoes, isso pq o numpy e para computacao cientifica\n",
    "# Por isso ele e feito para ser mais performatico mesmo\n",
    "# Dependendo do seu volume de dados, essa diferenca e um divisor de aguas\n",
    "# Para grandes modelos de redes neurais, IA, machine learning\n",
    "# O numpy e muito usado devido a sua performance muito boa\n",
    "array_numpy = np.arange(500)\n",
    "%timeit array_numpy ** 4"
   ]
  },
  {
   "cell_type": "code",
   "execution_count": 22,
   "id": "856b833b",
   "metadata": {
    "scrolled": true
   },
   "outputs": [
    {
     "name": "stdout",
     "output_type": "stream",
     "text": [
      "146 µs ± 453 ns per loop (mean ± std. dev. of 7 runs, 10,000 loops each)\n"
     ]
    }
   ],
   "source": [
    "# Perceba a diferenca ate em como a operacao e feita\n",
    "# Com python puro nos precisamos criar uma list comprehension\n",
    "# E entao fazer um loop entre os elementos do array\n",
    "# Veja para cada elemento i do array_python\n",
    "# Nos vamos elevar o elemento i do array_python para 4 potencia\n",
    "array_python = range(500)\n",
    "%timeit [array_python[i] ** 4 for i in array_python]"
   ]
  },
  {
   "cell_type": "markdown",
   "id": "d87286c1",
   "metadata": {},
   "source": [
    "##### Percebeu a diferenca GRITANTE"
   ]
  }
 ],
 "metadata": {
  "kernelspec": {
   "display_name": "Python 3 (ipykernel)",
   "language": "python",
   "name": "python3"
  },
  "language_info": {
   "codemirror_mode": {
    "name": "ipython",
    "version": 3
   },
   "file_extension": ".py",
   "mimetype": "text/x-python",
   "name": "python",
   "nbconvert_exporter": "python",
   "pygments_lexer": "ipython3",
   "version": "3.9.12"
  }
 },
 "nbformat": 4,
 "nbformat_minor": 5
}
