{
 "cells": [
  {
   "cell_type": "markdown",
   "id": "c97b89e4",
   "metadata": {},
   "source": [
    "### Manipulacao de Dados com Numpy"
   ]
  },
  {
   "cell_type": "markdown",
   "id": "2adbc37a",
   "metadata": {},
   "source": [
    "#### Aula 9 – Array Multidimensional!"
   ]
  },
  {
   "cell_type": "code",
   "execution_count": 2,
   "id": "46286df5",
   "metadata": {},
   "outputs": [],
   "source": [
    "# Vamos começar do inicio que basicamente e voce importar o pacote numpy\n",
    "# O Anaconda Python ja possui o NumPy instalado por isso nao precisa instalar\n",
    "# Caso voce não consiga importa-lo tente usar o comando !pip install numpy e depois faça a importacao\n",
    "import numpy as np\n",
    "\n",
    "# Veja que importamos o numpy e demos o \"apelido\" de np que sempre sera utilizado quando formos chamar as funcoes do numpy"
   ]
  },
  {
   "cell_type": "code",
   "execution_count": 3,
   "id": "ea3de47e",
   "metadata": {},
   "outputs": [
    {
     "name": "stdout",
     "output_type": "stream",
     "text": [
      "1.22.3\n"
     ]
    }
   ],
   "source": [
    "# Vamos verificar a versao utilizada neste curso do numpy, e importante que voce utilize a mesma versao\n",
    "print(np.__version__)"
   ]
  },
  {
   "cell_type": "markdown",
   "id": "5fbaa014",
   "metadata": {},
   "source": [
    "### Aula 9 – Array Multidimensional!"
   ]
  },
  {
   "cell_type": "code",
   "execution_count": 4,
   "id": "46774326",
   "metadata": {},
   "outputs": [
    {
     "data": {
      "text/plain": [
       "array([[1, 2, 3],\n",
       "       [4, 5, 6],\n",
       "       [7, 8, 9]])"
      ]
     },
     "execution_count": 4,
     "metadata": {},
     "output_type": "execute_result"
    }
   ],
   "source": [
    "# Vamos criar um array com shape 3,3\n",
    "array1 = np.array([[1,2,3],[4,5,6],[7,8,9]]);array1"
   ]
  },
  {
   "cell_type": "code",
   "execution_count": 5,
   "id": "979a1f60",
   "metadata": {},
   "outputs": [
    {
     "data": {
      "text/plain": [
       "array([7, 8, 9])"
      ]
     },
     "execution_count": 5,
     "metadata": {},
     "output_type": "execute_result"
    }
   ],
   "source": [
    "# Vamos retornar os elementos da terceira linha da matriz\n",
    "# Veja que o resultado é exatamente a ultima linha do \n",
    "# A linha de indice 2\n",
    "\n",
    "array1[2]"
   ]
  },
  {
   "cell_type": "code",
   "execution_count": 6,
   "id": "47bc1a77",
   "metadata": {},
   "outputs": [
    {
     "data": {
      "text/plain": [
       "array([7, 8, 9])"
      ]
     },
     "execution_count": 6,
     "metadata": {},
     "output_type": "execute_result"
    }
   ],
   "source": [
    "# Vamos retornar os elementos da terceira linha da matriz de outra forma\n",
    "# Veja que o resultado é exatamente a ultima linha do \n",
    "# A linha de indice 2\n",
    "\n",
    "array1[2,]"
   ]
  },
  {
   "cell_type": "code",
   "execution_count": 7,
   "id": "62d828ae",
   "metadata": {},
   "outputs": [
    {
     "data": {
      "text/plain": [
       "array([2, 5, 8])"
      ]
     },
     "execution_count": 7,
     "metadata": {},
     "output_type": "execute_result"
    }
   ],
   "source": [
    "# Retornando todas as linhas da segunda coluna da matriz\n",
    "# Perceba que queremos todas as linhas, e apenas a coluna de indice 1\n",
    "# Perceba que nos selecionamos uma coluna porem,\n",
    "# Ele retorna uma unica lista de valores\n",
    "# Basta ver como os dados sao retornados\n",
    "\n",
    "array1[:,1]"
   ]
  },
  {
   "cell_type": "code",
   "execution_count": 8,
   "id": "b0f825a9",
   "metadata": {},
   "outputs": [
    {
     "data": {
      "text/plain": [
       "8"
      ]
     },
     "execution_count": 8,
     "metadata": {},
     "output_type": "execute_result"
    }
   ],
   "source": [
    "# Fatiamento/Slicing da matriz\n",
    "# Aqui queremos a linha de indice 2 e \n",
    "# a coluna de indice 1\n",
    "\n",
    "array1[2,1]"
   ]
  },
  {
   "cell_type": "code",
   "execution_count": 9,
   "id": "ba77d7ac",
   "metadata": {},
   "outputs": [
    {
     "data": {
      "text/plain": [
       "array([[ 1,  2,  3],\n",
       "       [ 4,  5, 16],\n",
       "       [ 7,  8,  9]])"
      ]
     },
     "execution_count": 9,
     "metadata": {},
     "output_type": "execute_result"
    }
   ],
   "source": [
    "# Agora vamos usar atribuicao\n",
    "# Vamos mudar um dos elementos da matriz \n",
    "# Vamos mudar o elemento da linha de indice 1 e coluna indice 2\n",
    "\n",
    "\n",
    "# Nos chamamos o array e \n",
    "# indicamos atravez do slicing o elemento que queremos atribuir o novo valor\n",
    "# Perceba que o elemento foi alterado\n",
    "\n",
    "array1[1,2] = 16 ; array1"
   ]
  },
  {
   "cell_type": "code",
   "execution_count": 11,
   "id": "7733f1cd",
   "metadata": {},
   "outputs": [
    {
     "data": {
      "text/plain": [
       "(3,)"
      ]
     },
     "execution_count": 11,
     "metadata": {},
     "output_type": "execute_result"
    }
   ],
   "source": [
    "# Vamos criar mais um array para fazer um teste\n",
    "# Temos um array de 3 elementos\n",
    "\n",
    "array2 = np.array([10,11,12])\n",
    "array2.shape"
   ]
  },
  {
   "cell_type": "code",
   "execution_count": 12,
   "id": "a1749a6c",
   "metadata": {},
   "outputs": [
    {
     "ename": "IndexError",
     "evalue": "index 6 is out of bounds for axis 0 with size 3",
     "output_type": "error",
     "traceback": [
      "\u001b[1;31m---------------------------------------------------------------------------\u001b[0m",
      "\u001b[1;31mIndexError\u001b[0m                                Traceback (most recent call last)",
      "Input \u001b[1;32mIn [12]\u001b[0m, in \u001b[0;36m<cell line: 4>\u001b[1;34m()\u001b[0m\n\u001b[0;32m      1\u001b[0m \u001b[38;5;66;03m# Claro\u001b[39;00m\n\u001b[0;32m      2\u001b[0m \u001b[38;5;66;03m# Veja que ao chamar um elemento que nao existe no array\u001b[39;00m\n\u001b[0;32m      3\u001b[0m \u001b[38;5;66;03m# Retorna um erro\u001b[39;00m\n\u001b[1;32m----> 4\u001b[0m \u001b[43marray2\u001b[49m\u001b[43m[\u001b[49m\u001b[38;5;241;43m6\u001b[39;49m\u001b[43m]\u001b[49m\n",
      "\u001b[1;31mIndexError\u001b[0m: index 6 is out of bounds for axis 0 with size 3"
     ]
    }
   ],
   "source": [
    "# Claro\n",
    "# Veja que ao chamar um elemento que nao existe no array\n",
    "# Retorna um erro\n",
    "array2[6]"
   ]
  },
  {
   "cell_type": "markdown",
   "id": "5be60a5e",
   "metadata": {},
   "source": [
    "##### Se atente a mensagem IndexError, pois vc pode receber esta mensagem muitas vezes trabalhando com dados, varias situacoes vc pode transformar os dados e acabar recebendo esta mensagem. Essa mensagem significa que esta ocorrendo um erro no slicing, filtragem dos dados"
   ]
  }
 ],
 "metadata": {
  "kernelspec": {
   "display_name": "Python 3 (ipykernel)",
   "language": "python",
   "name": "python3"
  },
  "language_info": {
   "codemirror_mode": {
    "name": "ipython",
    "version": 3
   },
   "file_extension": ".py",
   "mimetype": "text/x-python",
   "name": "python",
   "nbconvert_exporter": "python",
   "pygments_lexer": "ipython3",
   "version": "3.9.12"
  }
 },
 "nbformat": 4,
 "nbformat_minor": 5
}
