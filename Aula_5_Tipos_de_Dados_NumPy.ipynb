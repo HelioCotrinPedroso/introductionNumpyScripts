{
 "cells": [
  {
   "cell_type": "markdown",
   "id": "47c5ac90",
   "metadata": {},
   "source": [
    "### Manipulacao de Dados com Numpy"
   ]
  },
  {
   "cell_type": "markdown",
   "id": "698c1566",
   "metadata": {},
   "source": [
    "#### Aula 5 – Tipos de Dados NumPy !"
   ]
  },
  {
   "cell_type": "code",
   "execution_count": 4,
   "id": "63f633a9",
   "metadata": {},
   "outputs": [],
   "source": [
    "# Vamos começar do inicio que basicamente e voce importar o pacote numpy\n",
    "# O Anaconda Python ja possui o NumPy instalado por isso nao precisa instalar\n",
    "# Caso voce não consiga importa-lo tente usar o comando !pip install numpy e depois faça a importacao\n",
    "import numpy as np\n",
    "\n",
    "# Veja que importamos o numpy e demos o \"apelido\" de np que sempre sera utilizado quando formos chamar as funcoes do numpy"
   ]
  },
  {
   "cell_type": "code",
   "execution_count": 5,
   "id": "f55a2075",
   "metadata": {},
   "outputs": [
    {
     "name": "stdout",
     "output_type": "stream",
     "text": [
      "1.22.3\n"
     ]
    }
   ],
   "source": [
    "# Vamos verificar a versao utilizada neste curso do numpy, e importante que voce utilize a mesma versao\n",
    "print(np.__version__)"
   ]
  },
  {
   "cell_type": "markdown",
   "id": "8498951e",
   "metadata": {},
   "source": [
    "### Aula 5 - Tipos de Dados NumPy"
   ]
  },
  {
   "cell_type": "markdown",
   "id": "682bf8b8",
   "metadata": {},
   "source": [
    "##### Ate o momento nos apenas aplicamos funcoes e o proprio numpy definiu o tipo de dados, porem normalmente no nosso dia a dia, nos queremos nos mesmos definir o tipo de dados que queremos, e isso que vamos estar estudando agora nesta aula, tipos de dados numpy"
   ]
  },
  {
   "cell_type": "code",
   "execution_count": 6,
   "id": "3881cd3f",
   "metadata": {},
   "outputs": [],
   "source": [
    "# Vamos desta vez criar os arrays e passando para a funcao o argumento de que tipo de dados queremos\n",
    "array2 = np.array([1,2,3,4,5], dtype ='float')\n",
    "array3 = np.arange(-10,10,1, dtype = 'float')"
   ]
  },
  {
   "cell_type": "code",
   "execution_count": 8,
   "id": "633beccc",
   "metadata": {},
   "outputs": [
    {
     "name": "stdout",
     "output_type": "stream",
     "text": [
      "[-10.  -9.  -8.  -7.  -6.  -5.  -4.  -3.  -2.  -1.   0.   1.   2.   3.\n",
      "   4.   5.   6.   7.   8.   9.]\n"
     ]
    }
   ],
   "source": [
    "print(array3)"
   ]
  },
  {
   "cell_type": "code",
   "execution_count": 10,
   "id": "82f87f59",
   "metadata": {},
   "outputs": [
    {
     "data": {
      "text/plain": [
       "dtype('float64')"
      ]
     },
     "execution_count": 10,
     "metadata": {},
     "output_type": "execute_result"
    }
   ],
   "source": [
    "# Vamos verificar o tipo de dados\n",
    "# O padrao e float64 mas temos tbm o float32, o que muda e o padrao das casas decimais\n",
    "array2.dtype"
   ]
  },
  {
   "cell_type": "code",
   "execution_count": 11,
   "id": "e687a6fc",
   "metadata": {},
   "outputs": [
    {
     "data": {
      "text/plain": [
       "array([ 3,  6,  9, 12])"
      ]
     },
     "execution_count": 11,
     "metadata": {},
     "output_type": "execute_result"
    }
   ],
   "source": [
    "# Agora vamos cria rum array sem passar o tipo do dado que queremos\n",
    "# Repare que ao imprimir na tela nao temos os pontos depois dos numeros \n",
    "array4 = np.array([3,6,9,12]);array4"
   ]
  },
  {
   "cell_type": "code",
   "execution_count": 12,
   "id": "9d051931",
   "metadata": {},
   "outputs": [
    {
     "data": {
      "text/plain": [
       "dtype('int32')"
      ]
     },
     "execution_count": 12,
     "metadata": {},
     "output_type": "execute_result"
    }
   ],
   "source": [
    "# Verificando o tipo\n",
    "array4.dtype"
   ]
  },
  {
   "cell_type": "code",
   "execution_count": 14,
   "id": "5ab289b1",
   "metadata": {},
   "outputs": [
    {
     "data": {
      "text/plain": [
       "array([ 3.,  6.,  9., 12.])"
      ]
     },
     "execution_count": 14,
     "metadata": {},
     "output_type": "execute_result"
    }
   ],
   "source": [
    "# Agora veja se recriarmos o mesmo array so que desta vez\n",
    "# Vamos incluir casa decimal em um dos numeros, apenas 1 numero\n",
    "# E vamos deixar o numpy definir sozinho o tipo de numero\n",
    "array5 = np.array([3.0,6,9,12]);array5"
   ]
  },
  {
   "cell_type": "code",
   "execution_count": 15,
   "id": "ac129f3e",
   "metadata": {},
   "outputs": [
    {
     "data": {
      "text/plain": [
       "dtype('float64')"
      ]
     },
     "execution_count": 15,
     "metadata": {},
     "output_type": "execute_result"
    }
   ],
   "source": [
    "# E importanto nos fazermos este exercicio em todos os pacotes que voces usarem\n",
    "# Isso para cada tipo de dado vc tem diferentes operacoes que podem ser aplicadas\n",
    "# E muito comum vc querer controlar o tipo de dado que vc quer que seja gerado para efeito de precisao\n",
    "# A ferramenta nao sabe o que vc quer, por isso e importante vc ter o controle disto\n",
    "# Veja o Numpy fez o esperado, ele viu um numero decimal e por isso nao considerou int\n",
    "# Caso contrario ele teria perdido precisao usando numeros inteiros, ele nao fez isso\n",
    "\n",
    "array5.dtype"
   ]
  },
  {
   "cell_type": "code",
   "execution_count": 17,
   "id": "ff884547",
   "metadata": {},
   "outputs": [
    {
     "data": {
      "text/plain": [
       "array(['manipulacao', 'de', 'dados'], dtype='<U11')"
      ]
     },
     "execution_count": 17,
     "metadata": {},
     "output_type": "execute_result"
    }
   ],
   "source": [
    "# Vamos criar um array de strings\n",
    "array6 = np.array(['manipulacao','de','dados'])\n",
    "array6"
   ]
  },
  {
   "cell_type": "code",
   "execution_count": 18,
   "id": "907b53ec",
   "metadata": {},
   "outputs": [
    {
     "data": {
      "text/plain": [
       "dtype('<U11')"
      ]
     },
     "execution_count": 18,
     "metadata": {},
     "output_type": "execute_result"
    }
   ],
   "source": [
    "# Tipo U11 e basicamente o tipo unicode ou seja tipo string para simplificar\n",
    "# Porem o numpy trata internamente como unicode\n",
    "# Unicode e uma forma de codificacao strings\n",
    "# No python seria o tipo string mas no numpy isso muda\n",
    "# Uma enumeracao especifica que representa as strings\n",
    "array6.dtype"
   ]
  },
  {
   "cell_type": "code",
   "execution_count": 21,
   "id": "d750a00a",
   "metadata": {},
   "outputs": [
    {
     "data": {
      "text/plain": [
       "array([ True, False,  True])"
      ]
     },
     "execution_count": 21,
     "metadata": {},
     "output_type": "execute_result"
    }
   ],
   "source": [
    "# Veja so, agora vamos incluir palavras sem as aspas\n",
    "# Isso pq essas palavras nao sao strings comuns\n",
    "# Essas palavras sao especificas na programacao\n",
    "# Elas na verdade sao valores booleanos\n",
    "# Se colocarmos aspas essas palavras se tornam simples Unicodes\n",
    "array7 = np.array([True,False,True]);array7"
   ]
  },
  {
   "cell_type": "code",
   "execution_count": 20,
   "id": "e446eb06",
   "metadata": {},
   "outputs": [
    {
     "data": {
      "text/plain": [
       "dtype('bool')"
      ]
     },
     "execution_count": 20,
     "metadata": {},
     "output_type": "execute_result"
    }
   ],
   "source": [
    "array7.dtype"
   ]
  },
  {
   "cell_type": "code",
   "execution_count": 22,
   "id": "7e40d329",
   "metadata": {},
   "outputs": [],
   "source": [
    "# Agora vamos criar outro array\n",
    "# Com valor inteiro, negativo e decimal\n",
    "array8 = np.array([15,-1,7.99])"
   ]
  },
  {
   "cell_type": "code",
   "execution_count": 23,
   "id": "c897299e",
   "metadata": {},
   "outputs": [
    {
     "data": {
      "text/plain": [
       "dtype('float64')"
      ]
     },
     "execution_count": 23,
     "metadata": {},
     "output_type": "execute_result"
    }
   ],
   "source": [
    "array8.dtype"
   ]
  },
  {
   "cell_type": "code",
   "execution_count": 24,
   "id": "3b1bd0bf",
   "metadata": {},
   "outputs": [
    {
     "data": {
      "text/plain": [
       "array([15, -1,  7])"
      ]
     },
     "execution_count": 24,
     "metadata": {},
     "output_type": "execute_result"
    }
   ],
   "source": [
    "# Caso queiramos mudar o tipo de dados do array\n",
    "# Ao fazer arredondamento perceba que vc perde parte do dado, 0.99 neste caso\n",
    "# Isso pode fazer muita diferenca\n",
    "array8.astype(int)"
   ]
  },
  {
   "cell_type": "code",
   "execution_count": 25,
   "id": "071d6fc3",
   "metadata": {},
   "outputs": [
    {
     "name": "stdout",
     "output_type": "stream",
     "text": [
      "[15 -1  8]\n"
     ]
    }
   ],
   "source": [
    "# Caso vc queira arredondar\n",
    "# Perceba que primeiro precisamos arredondar o array\n",
    "# Apenas depois que conseguimos claro converter para numero inteiro\n",
    "print(np.round(array8).astype(int))"
   ]
  }
 ],
 "metadata": {
  "kernelspec": {
   "display_name": "Python 3 (ipykernel)",
   "language": "python",
   "name": "python3"
  },
  "language_info": {
   "codemirror_mode": {
    "name": "ipython",
    "version": 3
   },
   "file_extension": ".py",
   "mimetype": "text/x-python",
   "name": "python",
   "nbconvert_exporter": "python",
   "pygments_lexer": "ipython3",
   "version": "3.9.12"
  }
 },
 "nbformat": 4,
 "nbformat_minor": 5
}
