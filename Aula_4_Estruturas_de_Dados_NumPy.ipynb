{
 "cells": [
  {
   "cell_type": "markdown",
   "id": "356d613f",
   "metadata": {},
   "source": [
    "### Manipulacao de Dados com Numpy"
   ]
  },
  {
   "cell_type": "markdown",
   "id": "7ed0b347",
   "metadata": {},
   "source": [
    "#### Aula 4 – Estruturas de Dados NumPy !"
   ]
  },
  {
   "cell_type": "code",
   "execution_count": 1,
   "id": "30090d14",
   "metadata": {},
   "outputs": [
    {
     "name": "stdout",
     "output_type": "stream",
     "text": [
      "Python 3.9.12\n"
     ]
    }
   ],
   "source": [
    "# Primeiro veja a versao do Python que estamos utilizando\n",
    "# O sinal ! antes do comando indica que vamos executar um comando no SO, neste caso vamos ver a versao do Python instalada\n",
    "!python -V"
   ]
  },
  {
   "cell_type": "code",
   "execution_count": 2,
   "id": "f1acf6c4",
   "metadata": {},
   "outputs": [],
   "source": [
    "# Caso voce queira atualizar algum pacote basta executar o comando abaixo\n",
    "# !pip install -U nome_do_pacote\n",
    "\n",
    "# Caso você queira instalar uma versão especifica de algum pacote, então execute o comando abaixo\n",
    "# !pip install nomepacote==versao\n",
    "\n",
    "\n",
    "# Sempre apos instalar ou atualizar um pacote, reinicie o Jupyter notebook para garantir o devido funcionamento"
   ]
  },
  {
   "cell_type": "markdown",
   "id": "a62ce8cb",
   "metadata": {},
   "source": [
    "##### Uma das principais funcionalidades com NumPy e voce carregar dados atraves de uma estrutura NumPy que e a forma que os dados sao colocados na memoria.\n",
    "\n",
    "##### Os dados podem se originar de um arquivo CSV, um banco de dados, entre outros locais, precisamos trazer estes dados para o Python para voce trabalhar e o NumPy oferece estrutura de dados para esta tarefa."
   ]
  },
  {
   "cell_type": "code",
   "execution_count": 3,
   "id": "14ebafc2",
   "metadata": {},
   "outputs": [],
   "source": [
    "# Vamos começar do inicio que basicamente e voce importar o pacote numpy\n",
    "# O Anaconda Python ja possui o NumPy instalado por isso nao precisa instalar\n",
    "# Caso voce não consiga importa-lo tente usar o comando !pip install numpy e depois faça a importacao\n",
    "import numpy as np\n",
    "\n",
    "# Veja que importamos o numpy e demos o \"apelido\" de np que sempre sera utilizado quando formos chamar as funcoes do numpy"
   ]
  },
  {
   "cell_type": "code",
   "execution_count": 4,
   "id": "f8e60752",
   "metadata": {},
   "outputs": [
    {
     "name": "stdout",
     "output_type": "stream",
     "text": [
      "1.22.3\n"
     ]
    }
   ],
   "source": [
    "# Vamos verificar a versao utilizada neste curso do numpy, e importante que voce utilize a mesma versao\n",
    "print(np.__version__)"
   ]
  },
  {
   "cell_type": "markdown",
   "id": "b2c711a7",
   "metadata": {},
   "source": [
    "### Aula 4 Parte 1"
   ]
  },
  {
   "cell_type": "markdown",
   "id": "b85d29fd",
   "metadata": {},
   "source": [
    "### Estrutura NumPy -  Array"
   ]
  },
  {
   "cell_type": "code",
   "execution_count": 5,
   "id": "83ff1ef8",
   "metadata": {},
   "outputs": [
    {
     "name": "stdout",
     "output_type": "stream",
     "text": [
      "[1 2 3 4]\n"
     ]
    }
   ],
   "source": [
    "# Vamos comecar criando nosso primeiro Array Numpy e imprimir ele para vermos\n",
    "# O ideal e sempre vc separar cada comando para em caso de erros vc conseguir facilmente identifica-los\n",
    "# E tambem vc consegue processar os scripts por pedacoes o que ajuda a deixar mais performatico\n",
    "# Porem caso queira vc pode utilizar o ; para executar mais de um comando seguido ou escrever o codigo embaixo sem o ;\n",
    "array1 = np.array([1,2,3,4])\n",
    "print(array1)\n",
    "\n",
    "# Essa Funcao sera muito utilizada, nos chamamos o pacote numpy passamos que queremos um array\n",
    "# Dentro do parenteses nos passamos uma lista [] com os numeros separados por virgula e entao imprimimos com print na tela"
   ]
  },
  {
   "cell_type": "code",
   "execution_count": 6,
   "id": "c5f41b92",
   "metadata": {},
   "outputs": [
    {
     "data": {
      "text/plain": [
       "(4,)"
      ]
     },
     "execution_count": 6,
     "metadata": {},
     "output_type": "execute_result"
    }
   ],
   "source": [
    "# Agora vamos verificar o formato do array (chamamos normalmente de shape)\n",
    "# o shape e uma descricao do objeto, neste caso o array que criamos\n",
    "array1.shape\n",
    "\n",
    "# Veja, ele nos disse que é um vetor de 4 elementos e apenas 1 dimensao, o vazio depois da virgula mostra que temos uma unica\n",
    "# dimensao ou seja uma unica \"coluna e 4 linhas\""
   ]
  },
  {
   "cell_type": "code",
   "execution_count": 7,
   "id": "0bf7f379",
   "metadata": {},
   "outputs": [
    {
     "data": {
      "text/plain": [
       "1"
      ]
     },
     "execution_count": 7,
     "metadata": {},
     "output_type": "execute_result"
    }
   ],
   "source": [
    "# Vamos confirmar agora verificando o numero de dimensoes deste array\n",
    "# Veja que tem apenas 1 dimensao\n",
    "array1.ndim"
   ]
  },
  {
   "cell_type": "code",
   "execution_count": 8,
   "id": "b058a354",
   "metadata": {},
   "outputs": [
    {
     "name": "stdout",
     "output_type": "stream",
     "text": [
      "[[1 2 3]\n",
      " [4 5 6]]\n"
     ]
    }
   ],
   "source": [
    "# Agora vamos criar um array de duas dimensoes\n",
    "array2 = np.array([[1,2,3],[4,5,6]]);print(array2)\n",
    "\n",
    "# Perceba que desta vez nos estamos passando 2 listas dentro de outra lista\n",
    "# Ou seja chamamos isto de lista de listas em python e a forma de criar arrays com mais de 1 dimensao\n",
    "# Este array sao 2 dimensoes com 3 registros cada dimensao"
   ]
  },
  {
   "cell_type": "code",
   "execution_count": 9,
   "id": "2fce2ca3",
   "metadata": {},
   "outputs": [
    {
     "data": {
      "text/plain": [
       "(2, 3)"
      ]
     },
     "execution_count": 9,
     "metadata": {},
     "output_type": "execute_result"
    }
   ],
   "source": [
    "# Shape\n",
    "array2.shape\n",
    "\n",
    "# Veja temos 2 dimensoes com 3 registros cada dimensão."
   ]
  },
  {
   "cell_type": "code",
   "execution_count": 18,
   "id": "a5e4a383",
   "metadata": {},
   "outputs": [
    {
     "data": {
      "text/plain": [
       "3"
      ]
     },
     "execution_count": 18,
     "metadata": {},
     "output_type": "execute_result"
    }
   ],
   "source": [
    "array2[0,2]"
   ]
  },
  {
   "cell_type": "code",
   "execution_count": 10,
   "id": "11c56871",
   "metadata": {},
   "outputs": [
    {
     "data": {
      "text/plain": [
       "2"
      ]
     },
     "execution_count": 10,
     "metadata": {},
     "output_type": "execute_result"
    }
   ],
   "source": [
    "# Numero de dimensoes\n",
    "array2.ndim"
   ]
  },
  {
   "cell_type": "markdown",
   "id": "1e5ac058",
   "metadata": {},
   "source": []
  },
  {
   "cell_type": "markdown",
   "id": "0d7dd45f",
   "metadata": {},
   "source": [
    "##### Nao esqueca que em Python tudo e objeto\n",
    "##### Vamos ver exemplos de Metodo e atributos de um objeto"
   ]
  },
  {
   "cell_type": "code",
   "execution_count": 9,
   "id": "238b8ad3",
   "metadata": {},
   "outputs": [
    {
     "data": {
      "text/plain": [
       "6"
      ]
     },
     "execution_count": 9,
     "metadata": {},
     "output_type": "execute_result"
    }
   ],
   "source": [
    "# Metodo\n",
    "# Vamos usar o metodo MAX para ver o valor maximo do nosso objeto array2\n",
    "array2.max()\n",
    "\n",
    "# Veja o numero 6 e o maior valor"
   ]
  },
  {
   "cell_type": "code",
   "execution_count": 10,
   "id": "df987f4e",
   "metadata": {},
   "outputs": [
    {
     "data": {
      "text/plain": [
       "2"
      ]
     },
     "execution_count": 10,
     "metadata": {},
     "output_type": "execute_result"
    }
   ],
   "source": [
    "# Atributo\n",
    "array2.ndim\n",
    "\n",
    "# Perceba que nosso objeto array2 tem duas dimensoes como atributo"
   ]
  },
  {
   "cell_type": "markdown",
   "id": "847a86ea",
   "metadata": {},
   "source": [
    "#### Dica\n",
    "##### Nunca tente decorar metodos e atributos, sao milhares ou ate mais.\n",
    "##### Sempre que vc se deparar com um problema ou objetivo, se pergunte, sera que existe um metodo ou atributo para este problema\n",
    "##### Muito provavelmente existira, pois o python e uma linguagem conforme falamos antes muito vem desenvolvida por uma enorme comunidade\n",
    "##### Por isso sempre trabalhe com a documentacao do pacote que voce esta utilizando, nunca se esqueca disso"
   ]
  },
  {
   "cell_type": "markdown",
   "id": "bf415630",
   "metadata": {},
   "source": [
    "### Aula 4 Parte 2"
   ]
  },
  {
   "cell_type": "markdown",
   "id": "a86267b0",
   "metadata": {},
   "source": [
    "### Criando uma Estrutura NumPy com funcao Arange"
   ]
  },
  {
   "cell_type": "code",
   "execution_count": 15,
   "id": "8c41d241",
   "metadata": {},
   "outputs": [],
   "source": [
    "# Essa funcao permite nos criamos um array conforme precisamos \n",
    "# Veja este exemplo, queremos um array com registros de 0 a 14\n",
    "# Sempre lembre que python e a começa do 0 por isso ele foi do 0 ao 14 totalizando 15 registros\n",
    "array3 = np.arange(15)"
   ]
  },
  {
   "cell_type": "code",
   "execution_count": 16,
   "id": "3e3696df",
   "metadata": {},
   "outputs": [
    {
     "name": "stdout",
     "output_type": "stream",
     "text": [
      "[ 0  1  2  3  4  5  6  7  8  9 10 11 12 13 14]\n"
     ]
    }
   ],
   "source": [
    "# Veja o array\n",
    "print(array3)"
   ]
  },
  {
   "cell_type": "code",
   "execution_count": 18,
   "id": "c1992199",
   "metadata": {},
   "outputs": [
    {
     "name": "stdout",
     "output_type": "stream",
     "text": [
      "[ 0  3  6  9 12 15]\n"
     ]
    }
   ],
   "source": [
    "# Nos podemos passar mais parametros para criacao do array e deixa-lo customizado\n",
    "# Neste caso passamos o inicio, fim e os \"pulos\" que queremos\n",
    "# O ultimo numero nesta funcao e ignorado ou seja vc teria que passar ate o 16 para ele retornar o 15\n",
    "array4 = np.arange(0,16,3);print(array4)\n",
    "\n",
    "# Neste caso pedimos um array do 0 ao 14 pulando de 3 em 3\n",
    "# Veja que no caso ele nao trouxe o ultimo numero pois nao tem casas o suficiente para ele ter ido ate o 15 que seria o proximo"
   ]
  },
  {
   "cell_type": "markdown",
   "id": "52c20ce4",
   "metadata": {},
   "source": [
    "### Aula 4 Parte 3"
   ]
  },
  {
   "cell_type": "markdown",
   "id": "b0a58fb5",
   "metadata": {},
   "source": [
    "### Criando uma Estrutura NumPy com funcao Linspace"
   ]
  },
  {
   "cell_type": "code",
   "execution_count": 19,
   "id": "eb3311a0",
   "metadata": {},
   "outputs": [
    {
     "data": {
      "text/plain": [
       "array([ 0. ,  2.5,  5. ,  7.5, 10. ])"
      ]
     },
     "execution_count": 19,
     "metadata": {},
     "output_type": "execute_result"
    }
   ],
   "source": [
    "# Esta funcao vai criar o array com o intervalo entre os numero igual ou seja linear\n",
    "# Veja nos passamos o valor de inicio, fim e o numero de elementos que queremos\n",
    "array5 = np.linspace(0,10,5) ; array5"
   ]
  },
  {
   "cell_type": "markdown",
   "id": "77863e90",
   "metadata": {},
   "source": [
    "### Outras funcoes para criar estruturas"
   ]
  },
  {
   "cell_type": "markdown",
   "id": "57f4224b",
   "metadata": {},
   "source": [
    "#### numpy.zeros"
   ]
  },
  {
   "cell_type": "code",
   "execution_count": 20,
   "id": "535fbadb",
   "metadata": {},
   "outputs": [
    {
     "data": {
      "text/plain": [
       "array([[0., 0., 0., 0., 0., 0., 0., 0.],\n",
       "       [0., 0., 0., 0., 0., 0., 0., 0.],\n",
       "       [0., 0., 0., 0., 0., 0., 0., 0.],\n",
       "       [0., 0., 0., 0., 0., 0., 0., 0.],\n",
       "       [0., 0., 0., 0., 0., 0., 0., 0.],\n",
       "       [0., 0., 0., 0., 0., 0., 0., 0.],\n",
       "       [0., 0., 0., 0., 0., 0., 0., 0.],\n",
       "       [0., 0., 0., 0., 0., 0., 0., 0.],\n",
       "       [0., 0., 0., 0., 0., 0., 0., 0.],\n",
       "       [0., 0., 0., 0., 0., 0., 0., 0.]])"
      ]
     },
     "execution_count": 20,
     "metadata": {},
     "output_type": "execute_result"
    }
   ],
   "source": [
    "# Vamos criar um array preenchido com zeros\n",
    "# chamamos a funcao e passamos o numero de registros que queremos e o numero de dimensoes\n",
    "# No caso sao 10 linhas e 8 colunas\n",
    "# Os . e pq os valores foram criados do tipo float/decimal\n",
    "array6 = np.zeros((10,8)) ; array6\n",
    "\n",
    "# Um exemplo do uso deste tipo de array e quando estamos treinamdo um modelo de rede neural artificial\n",
    "# Todo o treinamento dessa rede neural e feito atravez de operacoes com arrays\n",
    "# Usamos este tipo de array para criar os pesos, entao damos a estrutura para o array com zero\n",
    "# E os valores vao mudando conforme o andamento do processo, e uma forma de organizacao do trabalho"
   ]
  },
  {
   "cell_type": "markdown",
   "id": "ffea626a",
   "metadata": {},
   "source": [
    "#### numpy.ones"
   ]
  },
  {
   "cell_type": "code",
   "execution_count": 21,
   "id": "d7218825",
   "metadata": {},
   "outputs": [
    {
     "data": {
      "text/plain": [
       "array([[[1., 1., 1.],\n",
       "        [1., 1., 1.],\n",
       "        [1., 1., 1.],\n",
       "        [1., 1., 1.]],\n",
       "\n",
       "       [[1., 1., 1.],\n",
       "        [1., 1., 1.],\n",
       "        [1., 1., 1.],\n",
       "        [1., 1., 1.]]])"
      ]
     },
     "execution_count": 21,
     "metadata": {},
     "output_type": "execute_result"
    }
   ],
   "source": [
    "# Ou entao podemos criar um array preenchido com valores 1\n",
    "# Neste caso pedimos para criar 2 arrays com 4 registros e 3 colunas\n",
    "array7 = np.ones((2,4,3)) ; array7"
   ]
  },
  {
   "cell_type": "markdown",
   "id": "7f9d6649",
   "metadata": {},
   "source": [
    "#### numpy.eye"
   ]
  },
  {
   "cell_type": "code",
   "execution_count": 22,
   "id": "a025c1d3",
   "metadata": {},
   "outputs": [
    {
     "data": {
      "text/plain": [
       "array([[1., 0., 0., 0.],\n",
       "       [0., 1., 0., 0.],\n",
       "       [0., 0., 1., 0.],\n",
       "       [0., 0., 0., 1.]])"
      ]
     },
     "execution_count": 22,
     "metadata": {},
     "output_type": "execute_result"
    }
   ],
   "source": [
    "# Podemos criar uma matriz identidade\n",
    "array8 = np.eye(4) ; array8\n",
    "\n",
    "# E uma matriz preenchida com 0 e numeros 1 na diagonal"
   ]
  },
  {
   "cell_type": "markdown",
   "id": "e35b673c",
   "metadata": {},
   "source": [
    "#### numpy.diag"
   ]
  },
  {
   "cell_type": "code",
   "execution_count": 24,
   "id": "d50a28f4",
   "metadata": {},
   "outputs": [
    {
     "data": {
      "text/plain": [
       "array([[1, 0, 0, 0, 0, 0, 0],\n",
       "       [0, 2, 0, 0, 0, 0, 0],\n",
       "       [0, 0, 3, 0, 0, 0, 0],\n",
       "       [0, 0, 0, 4, 0, 0, 0],\n",
       "       [0, 0, 0, 0, 5, 0, 0],\n",
       "       [0, 0, 0, 0, 0, 6, 0],\n",
       "       [0, 0, 0, 0, 0, 0, 7]])"
      ]
     },
     "execution_count": 24,
     "metadata": {},
     "output_type": "execute_result"
    }
   ],
   "source": [
    "# Podemos criar uma matriz diagonal, so que desta vez informando os numeros que queremos na diagonal\n",
    "array9 = np.diag((1,2,3,4,5,6,7))\n",
    "array9"
   ]
  },
  {
   "cell_type": "markdown",
   "id": "f2f6b044",
   "metadata": {},
   "source": [
    "#### numpy.random.rand"
   ]
  },
  {
   "cell_type": "code",
   "execution_count": 25,
   "id": "73f43413",
   "metadata": {},
   "outputs": [
    {
     "data": {
      "text/plain": [
       "array([0.8298857 , 0.56189802, 0.97275979, 0.28636579, 0.6154736 ,\n",
       "       0.08587671, 0.23576666, 0.38814478, 0.69325312, 0.91826022])"
      ]
     },
     "execution_count": 25,
     "metadata": {},
     "output_type": "execute_result"
    }
   ],
   "source": [
    "# Esta funcao cria uma sequencia de numeros uniformemente distribuidos com range de 0 até onde vc escolher\n",
    "array10 = np.random.rand(10); array10"
   ]
  },
  {
   "cell_type": "markdown",
   "id": "9e906159",
   "metadata": {},
   "source": [
    "#### np.random.randn"
   ]
  },
  {
   "cell_type": "code",
   "execution_count": 26,
   "id": "5775c13d",
   "metadata": {},
   "outputs": [
    {
     "data": {
      "text/plain": [
       "array([ 0.7981207 ,  0.02705702,  1.11642667,  0.65727063,  2.99324829,\n",
       "        0.30515055,  1.79800338, -0.17052628, -1.28495349,  0.17709576])"
      ]
     },
     "execution_count": 26,
     "metadata": {},
     "output_type": "execute_result"
    }
   ],
   "source": [
    "# Esta funcao é muito boa, ela cria uma sequencia de numeros com distribuicao normal\n",
    "# A distribuicao normal e um tipo de distribuicao muito utilizada na estatistica\n",
    "array11 = np.random.randn(10); array11"
   ]
  },
  {
   "cell_type": "markdown",
   "id": "afc68b26",
   "metadata": {},
   "source": [
    "#### numpy.empty"
   ]
  },
  {
   "cell_type": "code",
   "execution_count": 21,
   "id": "e720a1d2",
   "metadata": {},
   "outputs": [
    {
     "data": {
      "text/plain": [
       "array([[0., 0.],\n",
       "       [0., 0.],\n",
       "       [0., 0.]])"
      ]
     },
     "execution_count": 21,
     "metadata": {},
     "output_type": "execute_result"
    }
   ],
   "source": [
    "# Podemos tambem criar um array vazio\n",
    "# Neste caso queremos 3 registros e 2 dimensoes\n",
    "# Este e o mesmo caso do array preenchido com 0 onde vc quer apenas a estrutura e depois a preenche\n",
    "# Esses numeros sao apenas lixo de memoria, ele esta vazio mesmo\n",
    "array12 = np.empty((3,2)) ; array12"
   ]
  },
  {
   "cell_type": "markdown",
   "id": "feff303d",
   "metadata": {},
   "source": [
    "#### numpy.tile"
   ]
  },
  {
   "cell_type": "code",
   "execution_count": 28,
   "id": "29b0464b",
   "metadata": {},
   "outputs": [
    {
     "data": {
      "text/plain": [
       "array([[1, 2, 3],\n",
       "       [4, 5, 6]])"
      ]
     },
     "execution_count": 28,
     "metadata": {},
     "output_type": "execute_result"
    }
   ],
   "source": [
    "# Neste caso vamos replicar os valores de um array\n",
    "# Veja exemplo vamos começar criando um array normal\n",
    "array13 = np.array([[1,2,3], [4,5,6]]);array13"
   ]
  },
  {
   "cell_type": "code",
   "execution_count": 29,
   "id": "e911a1ba",
   "metadata": {},
   "outputs": [
    {
     "name": "stdout",
     "output_type": "stream",
     "text": [
      "[[1 2 1 2 1 2 1 2]\n",
      " [4 5 4 5 4 5 4 5]]\n"
     ]
    }
   ],
   "source": [
    "# Veja que estamos replicando o array\n",
    "# Repetindo 4 vezes os registros do array\n",
    "array14 = np.tile(np.array([[1,2], [4,5]]), 4); print(array14)"
   ]
  },
  {
   "cell_type": "code",
   "execution_count": 30,
   "id": "2bfadc32",
   "metadata": {},
   "outputs": [
    {
     "name": "stdout",
     "output_type": "stream",
     "text": [
      "[[1 2 1 2]\n",
      " [4 5 4 5]\n",
      " [1 2 1 2]\n",
      " [4 5 4 5]]\n"
     ]
    }
   ],
   "source": [
    "# Podemos replicar tbm o numero de dimensoes alem do numero de registros\n",
    "array15 = np.tile(np.array([[1,2], [4,5]]), (2,2)); print(array15)"
   ]
  }
 ],
 "metadata": {
  "kernelspec": {
   "display_name": "Python 3 (ipykernel)",
   "language": "python",
   "name": "python3"
  },
  "language_info": {
   "codemirror_mode": {
    "name": "ipython",
    "version": 3
   },
   "file_extension": ".py",
   "mimetype": "text/x-python",
   "name": "python",
   "nbconvert_exporter": "python",
   "pygments_lexer": "ipython3",
   "version": "3.9.12"
  }
 },
 "nbformat": 4,
 "nbformat_minor": 5
}
