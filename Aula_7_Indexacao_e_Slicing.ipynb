{
 "cells": [
  {
   "cell_type": "markdown",
   "id": "8cbeeb59",
   "metadata": {},
   "source": [
    "### Manipulacao de Dados com Numpy"
   ]
  },
  {
   "cell_type": "markdown",
   "id": "cb2a302c",
   "metadata": {},
   "source": [
    "#### Aula 7 – Indexacao e Slicing !"
   ]
  },
  {
   "cell_type": "markdown",
   "id": "f6f15cba",
   "metadata": {},
   "source": [
    "#### Agora vamos aumentar o nivel de dificuldade com o tema Indexacao e Slicing, agora peco que vc aumente seu nivel de atencao para tudo que vou explicar, bora !"
   ]
  },
  {
   "cell_type": "code",
   "execution_count": null,
   "id": "b016c621",
   "metadata": {},
   "outputs": [],
   "source": [
    "# Vamos começar do inicio que basicamente e voce importar o pacote numpy\n",
    "# O Anaconda Python ja possui o NumPy instalado por isso nao precisa instalar\n",
    "# Caso voce não consiga importa-lo tente usar o comando !pip install numpy e depois faça a importacao\n",
    "import numpy as np\n",
    "\n",
    "# Veja que importamos o numpy e demos o \"apelido\" de np que sempre sera utilizado quando formos chamar as funcoes do numpy"
   ]
  },
  {
   "cell_type": "code",
   "execution_count": null,
   "id": "903dbfc3",
   "metadata": {},
   "outputs": [],
   "source": [
    "# Vamos verificar a versao utilizada neste curso do numpy, e importante que voce utilize a mesma versao\n",
    "print(np.__version__)"
   ]
  },
  {
   "cell_type": "markdown",
   "id": "673016cf",
   "metadata": {},
   "source": [
    "### Aula 7 – Indexacao e Slicing com Numpy!"
   ]
  },
  {
   "cell_type": "code",
   "execution_count": null,
   "id": "4ea89da0",
   "metadata": {},
   "outputs": [],
   "source": [
    "# Vamos criar um array simples como voce conhece ja\n",
    "array1 = np.array([1,2,3,4,5])\n",
    "array1"
   ]
  },
  {
   "cell_type": "code",
   "execution_count": null,
   "id": "5d2ad43c",
   "metadata": {},
   "outputs": [],
   "source": [
    "# Vamos buscar o primeiro elemento do array\n",
    "array1[0]"
   ]
  },
  {
   "cell_type": "code",
   "execution_count": null,
   "id": "2adc430e",
   "metadata": {},
   "outputs": [],
   "source": [
    "# Vamos buscar o segundo elemento do array\n",
    "array1[1]"
   ]
  },
  {
   "cell_type": "code",
   "execution_count": null,
   "id": "c55ffc34",
   "metadata": {},
   "outputs": [],
   "source": [
    "# Vamos buscar o ultimo elemento do array\n",
    "# Veja que e como se tivessemos indo de traz para frente\n",
    "array1[-1]"
   ]
  },
  {
   "cell_type": "code",
   "execution_count": null,
   "id": "584d4fad",
   "metadata": {},
   "outputs": [],
   "source": [
    "# Vamos criar um array com arange\n",
    "array2 = np.arange(11);array2"
   ]
  },
  {
   "cell_type": "code",
   "execution_count": null,
   "id": "72362172",
   "metadata": {},
   "outputs": [],
   "source": [
    "# Invertendo o Array\n",
    "array2[::-1]"
   ]
  },
  {
   "cell_type": "code",
   "execution_count": null,
   "id": "e31d907b",
   "metadata": {},
   "outputs": [],
   "source": [
    "# Invertendo o array\n",
    "# So que agora queremos os elementos de 2 em 2\n",
    "array2[::-2]"
   ]
  },
  {
   "cell_type": "markdown",
   "id": "98e69c81",
   "metadata": {},
   "source": [
    "##### Nao esqueca que a indexacao em python comeca pelo 0 nas proximas aulas vamos aumentar mais o nivel e vamos comecar a trabalhar com array multi-dimensional"
   ]
  }
 ],
 "metadata": {
  "kernelspec": {
   "display_name": "Python 3 (ipykernel)",
   "language": "python",
   "name": "python3"
  },
  "language_info": {
   "codemirror_mode": {
    "name": "ipython",
    "version": 3
   },
   "file_extension": ".py",
   "mimetype": "text/x-python",
   "name": "python",
   "nbconvert_exporter": "python",
   "pygments_lexer": "ipython3",
   "version": "3.9.12"
  }
 },
 "nbformat": 4,
 "nbformat_minor": 5
}
