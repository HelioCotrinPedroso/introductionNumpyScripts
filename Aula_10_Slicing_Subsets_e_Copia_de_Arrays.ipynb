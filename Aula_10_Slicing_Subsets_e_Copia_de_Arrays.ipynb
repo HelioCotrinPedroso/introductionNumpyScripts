{
 "cells": [
  {
   "cell_type": "markdown",
   "id": "c97b89e4",
   "metadata": {},
   "source": [
    "### Manipulacao de Dados com Numpy"
   ]
  },
  {
   "cell_type": "markdown",
   "id": "2adbc37a",
   "metadata": {},
   "source": [
    "#### Aula 10 – Slicing Subsets e Copia de Arrays"
   ]
  },
  {
   "cell_type": "code",
   "execution_count": null,
   "id": "46286df5",
   "metadata": {},
   "outputs": [],
   "source": [
    "# Vamos começar do inicio que basicamente e voce importar o pacote numpy\n",
    "# O Anaconda Python ja possui o NumPy instalado por isso nao precisa instalar\n",
    "# Caso voce não consiga importa-lo tente usar o comando !pip install numpy e depois faça a importacao\n",
    "import numpy as np\n",
    "\n",
    "# Veja que importamos o numpy e demos o \"apelido\" de np que sempre sera utilizado quando formos chamar as funcoes do numpy"
   ]
  },
  {
   "cell_type": "code",
   "execution_count": null,
   "id": "ea3de47e",
   "metadata": {},
   "outputs": [],
   "source": [
    "# Vamos verificar a versao utilizada neste curso do numpy, e importante que voce utilize a mesma versao\n",
    "print(np.__version__)"
   ]
  },
  {
   "cell_type": "markdown",
   "id": "5fbaa014",
   "metadata": {},
   "source": [
    "### Aula 10 – Slicing Subsets e Copia de Arrays"
   ]
  },
  {
   "cell_type": "markdown",
   "id": "0a3fda5b",
   "metadata": {},
   "source": [
    "##### Vamos agora ver mais alguns exemplos de slicing, que e o fatiamento de dados, vamos ter exemplos de subsets que e o resultado do slicing pois aplicamos o slicing para ter uma parte/subset/subconjunto dos dados e  tambem vamos ver como criar copia de arrays"
   ]
  },
  {
   "cell_type": "code",
   "execution_count": null,
   "id": "46774326",
   "metadata": {},
   "outputs": [],
   "source": [
    "# Criando um array simples com a funcao arange\n",
    "# Perceba que vamos criar um array de 0 ate 50(50 nao entra)\n",
    "# Sendo que cada elemento deste array vai ser multiplicado por 3\n",
    "\n",
    "\n",
    "array1 = np.arange(50) * 3\n",
    "array1"
   ]
  },
  {
   "cell_type": "code",
   "execution_count": null,
   "id": "979a1f60",
   "metadata": {},
   "outputs": [],
   "source": [
    "# Agora vamos fazer o Slicing do array\n",
    "# Ou seja, vamos pegar um pedaco dele apenas um subset do array\n",
    "# Queremos todos os elementos do indice 3 ate o indice 9 (indice 9 nao entra)\n",
    "# So que dessa vez nos queremos pular de 3 em 3\n",
    "# Veja o resultado\n",
    "# Perceba o numero de possibilidades que temos em utilizar slicing com numpy\n",
    "# Isso tudo com otima performance que o numpy oferece\n",
    "\n",
    "array1[3:9:3]"
   ]
  },
  {
   "cell_type": "code",
   "execution_count": null,
   "id": "47bc1a77",
   "metadata": {},
   "outputs": [],
   "source": [
    "# Retorna todos os ate o indice 6 (lembre 6 exclusive, nao entra)\n",
    "array1[:6]"
   ]
  },
  {
   "cell_type": "code",
   "execution_count": null,
   "id": "62d828ae",
   "metadata": {},
   "outputs": [],
   "source": [
    "# Retorna todos os ate o apartir do 6 (Dessa vez o 6 entra)\n",
    "# Perceba que quando vc indica o ate onde vc quer ir o ultimo nao entra\n",
    "# Mas quando vc indica de onde vc quer partir ae o valor entra\n",
    "\n",
    "array1[6:]"
   ]
  },
  {
   "cell_type": "code",
   "execution_count": null,
   "id": "7b17aca4",
   "metadata": {},
   "outputs": [],
   "source": [
    "# Vamos agora pegar os elementos do array do inicio ao fim\n",
    "# So que vamos pegar pulando de 3 em 3\n",
    "array1[::3]"
   ]
  },
  {
   "cell_type": "code",
   "execution_count": null,
   "id": "829db2f5",
   "metadata": {},
   "outputs": [],
   "source": [
    "# O slicing da forma que fazemos\n",
    "# Perceba que nao estamos fazendo atribuicao\n",
    "# Por causa disso claro, veja que o array1 nao se altera\n",
    "# Para alterar teriamos que fazer uma atribuicao\n",
    "\n",
    "array1"
   ]
  },
  {
   "cell_type": "code",
   "execution_count": null,
   "id": "51a0bca3",
   "metadata": {},
   "outputs": [],
   "source": [
    "# Como vc viu anteriormente\n",
    "# Nos podemos usar o slicing e atribuicao juntos\n",
    "# Para alterar os elementos do array\n",
    "# Veja como esta o array1 anterior e como ele vai ficar depois dessa operacao\n",
    "# Primeiro vamos mudar o array1 com atribuicao\n",
    "# Veja que por causa da atribuicao ele se tornou um novo array\n",
    "# Eu diminui ele para ficar melhor da gente ver\n",
    "\n",
    "array1 = np.arange(10)\n",
    "array1"
   ]
  },
  {
   "cell_type": "code",
   "execution_count": null,
   "id": "67807112",
   "metadata": {},
   "outputs": [],
   "source": [
    "# Agora vamos usar atribuicao e slicing\n",
    "# Para alterar apenas um elemento do array\n",
    "# Vamos pegar todos os elementos do indice 0 ate o indice 5 (indice 0 entra mas o 5 nao entra)\n",
    "# E vamos mudar todos estes elementos para 0\n",
    "\n",
    "\n",
    "array1[:5] = 0;array1"
   ]
  },
  {
   "cell_type": "code",
   "execution_count": null,
   "id": "485a0ff9",
   "metadata": {},
   "outputs": [],
   "source": [
    "# Podemos fazer atribuicao aplicando outras funcoes inclusive de criacao de arrays\n",
    "# Vamos fazer a mesma coisa mas dessa vez vamos usar o np.ones\n",
    "# Para substituir os valores 0 por 1\n",
    "# Veja que deu erro, pq ?\n",
    "# pq para este caso precisamos informar na funcao o numero exato de ones que queremos\n",
    "\n",
    "\n",
    "array1[:5] = np.ones(4);array1"
   ]
  },
  {
   "cell_type": "code",
   "execution_count": null,
   "id": "6f3c680f",
   "metadata": {},
   "outputs": [],
   "source": [
    "# Vai acontecer um erro tbm se vc indicar um slicing menor,\n",
    "# Que o numero de ones que vc colocou\n",
    "\n",
    "array1[:4] = np.ones(5);array1"
   ]
  },
  {
   "cell_type": "code",
   "execution_count": null,
   "id": "d96a2fca",
   "metadata": {},
   "outputs": [],
   "source": [
    "# No caso do slicing [:5] 0 ao 5 sao 5 elementos ou seja np.ones(5)\n",
    "# Veja que agora funcionou\n",
    "\n",
    "array1[:5] = np.ones(5);array1"
   ]
  },
  {
   "cell_type": "markdown",
   "id": "1d9de9a1",
   "metadata": {},
   "source": [
    "### Subsets/Amostras de Arrays"
   ]
  },
  {
   "cell_type": "code",
   "execution_count": null,
   "id": "fc49cd1c",
   "metadata": {},
   "outputs": [],
   "source": [
    "# Vamos criar um novo array de 0 a 9 tambem\n",
    "array2 = np.arange(10)\n",
    "array2"
   ]
  },
  {
   "cell_type": "code",
   "execution_count": null,
   "id": "998b9a96",
   "metadata": {},
   "outputs": [],
   "source": [
    "# Agora vamos criar um novo array\n",
    "# So que desta vez e um subset\n",
    "# Pois ele vai ser um pedaco do array2\n",
    "# Vamos pegar do inicio ao fim so que pulando de 3 em 3\n",
    "# O resultado vai ser um novo array so que sera uma parte do array original\n",
    "# Veja como fica muito facil fazer isso com numpy\n",
    "# Muitas pessoas que nao usam o numpy pode ter um trabalhao para fazer este trabalho simples\n",
    "# Criando um loop para extrair os dados de forma muito menos performatica\n",
    "# O loop e uma das estruturas mais lentas para se trabalhar\n",
    "\n",
    "\n",
    "array3 = array2[::3];array3"
   ]
  },
  {
   "cell_type": "markdown",
   "id": "e3bf5db5",
   "metadata": {},
   "source": [
    "### Copia de Arrays com np.copy"
   ]
  },
  {
   "cell_type": "markdown",
   "id": "8bb1d24a",
   "metadata": {},
   "source": [
    "##### Nos poderiamos criar uma copia simplesmente atribuindo o array original inteiro a um novo objeto, veja"
   ]
  },
  {
   "cell_type": "code",
   "execution_count": null,
   "id": "7322a1e6",
   "metadata": {},
   "outputs": [],
   "source": [
    "array4 = array3\n",
    "array4"
   ]
  },
  {
   "cell_type": "code",
   "execution_count": null,
   "id": "2177821a",
   "metadata": {},
   "outputs": [],
   "source": [
    "# Mas podemos usar o np.copy\n",
    "# A vantagem que o copy traz e que vc pode aliar ele a alguma operacao\n",
    "\n",
    "array5 = array4.copy()\n",
    "array5"
   ]
  },
  {
   "cell_type": "markdown",
   "id": "cd381d81",
   "metadata": {},
   "source": [
    "#### E muito comum no dia a dia de trabalho vc ir criando copias do array original com diferentes mudancas, que e uma forma responsiva de trabalhar, pois vc vai mantendo os dados originais e registrando as suas alteracoes aos poucos, em caso de erro vc consegue facilmente retornar ao dado anterior sem precisar carregar novamente os dados"
   ]
  }
 ],
 "metadata": {
  "kernelspec": {
   "display_name": "Python 3 (ipykernel)",
   "language": "python",
   "name": "python3"
  },
  "language_info": {
   "codemirror_mode": {
    "name": "ipython",
    "version": 3
   },
   "file_extension": ".py",
   "mimetype": "text/x-python",
   "name": "python",
   "nbconvert_exporter": "python",
   "pygments_lexer": "ipython3",
   "version": "3.9.12"
  }
 },
 "nbformat": 4,
 "nbformat_minor": 5
}
